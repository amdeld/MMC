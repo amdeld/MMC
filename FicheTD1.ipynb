{
 "cells": [
  {
   "cell_type": "markdown",
   "id": "e6ac675e-7099-43fa-be69-ee59a6d7c7ba",
   "metadata": {},
   "source": [
    "# Exo1\n",
    "$\\left[C\\right]=\\left[A\\right]\\left[B\\right]$  \n",
    "$c_{ij}=\\sum\\limits_{k=1}^{m=4}a_{ik}b_{kj}$"
   ]
  },
  {
   "cell_type": "code",
   "execution_count": 1,
   "id": "870cb1ae-97e7-4155-9f0c-8d6c7d8082ae",
   "metadata": {},
   "outputs": [],
   "source": [
    "using Symbolics, LinearAlgebra\n",
    "@variables a₁₁ a₁₂ a₁₃ a₁₄ a₂₁ a₂₂ a₃₃ a₄₄; # 8 composantes de la matrice A\n",
    "@variables b₁₁ b₁₂ b₂₁ b₂₂ b₃₁ b₃₂ b₄₁ b₄₂; # 8 composantes de la matrice B"
   ]
  },
  {
   "cell_type": "code",
   "execution_count": 2,
   "id": "14ba5336-53d3-4c19-831e-2be4f82da902",
   "metadata": {},
   "outputs": [
    {
     "data": {
      "text/latex": [
       "\\begin{equation}\n",
       "\\left[\n",
       "\\begin{array}{cccc}\n",
       "a{_{11}} & a{_{12}} & a{_{13}} & a{_{14}} \\\\\n",
       "a{_{21}} & a{_{22}} & a{_{33}} & a{_{44}} \\\\\n",
       "\\end{array}\n",
       "\\right]\n",
       "\\end{equation}\n"
      ],
      "text/plain": [
       "2×4 Matrix{Num}:\n",
       " a₁₁  a₁₂  a₁₃  a₁₄\n",
       " a₂₁  a₂₂  a₃₃  a₄₄"
      ]
     },
     "execution_count": 2,
     "metadata": {},
     "output_type": "execute_result"
    }
   ],
   "source": [
    "A = [a₁₁ a₁₂ a₁₃ a₁₄; a₂₁ a₂₂ a₃₃ a₄₄]"
   ]
  },
  {
   "cell_type": "code",
   "execution_count": 3,
   "id": "0f9b1752-b64c-456b-8037-e12b524d6af3",
   "metadata": {},
   "outputs": [
    {
     "data": {
      "text/plain": [
       "(2, 4)"
      ]
     },
     "execution_count": 3,
     "metadata": {},
     "output_type": "execute_result"
    }
   ],
   "source": [
    "size(A)"
   ]
  },
  {
   "cell_type": "code",
   "execution_count": 4,
   "id": "95af020c-4afa-4c41-8b2a-9b1d60ad4510",
   "metadata": {},
   "outputs": [
    {
     "data": {
      "text/latex": [
       "\\begin{equation}\n",
       "a{_{11}}\n",
       "\\end{equation}\n"
      ],
      "text/plain": [
       "a₁₁"
      ]
     },
     "execution_count": 4,
     "metadata": {},
     "output_type": "execute_result"
    }
   ],
   "source": [
    "A[1,1]"
   ]
  },
  {
   "cell_type": "code",
   "execution_count": 5,
   "id": "c7f94f42-a13f-4aa6-aadd-69ffdd289338",
   "metadata": {},
   "outputs": [
    {
     "data": {
      "text/latex": [
       "\\begin{equation}\n",
       "\\left[\n",
       "\\begin{array}{cc}\n",
       "b{_{11}} & b{_{12}} \\\\\n",
       "b{_{21}} & b{_{22}} \\\\\n",
       "b{_{31}} & b{_{32}} \\\\\n",
       "b{_{41}} & b{_{42}} \\\\\n",
       "\\end{array}\n",
       "\\right]\n",
       "\\end{equation}\n"
      ],
      "text/plain": [
       "4×2 Matrix{Num}:\n",
       " b₁₁  b₁₂\n",
       " b₂₁  b₂₂\n",
       " b₃₁  b₃₂\n",
       " b₄₁  b₄₂"
      ]
     },
     "execution_count": 5,
     "metadata": {},
     "output_type": "execute_result"
    }
   ],
   "source": [
    "B = [b₁₁ b₁₂; b₂₁ b₂₂; b₃₁ b₃₂; b₄₁ b₄₂]"
   ]
  },
  {
   "cell_type": "code",
   "execution_count": 6,
   "id": "810e75c7-5ec3-431b-ab8a-8a5982bac126",
   "metadata": {},
   "outputs": [
    {
     "data": {
      "text/plain": [
       "(4, 2)"
      ]
     },
     "execution_count": 6,
     "metadata": {},
     "output_type": "execute_result"
    }
   ],
   "source": [
    "size(B)"
   ]
  },
  {
   "cell_type": "code",
   "execution_count": 7,
   "id": "814402df-76e2-48e7-980a-829556fb8345",
   "metadata": {},
   "outputs": [
    {
     "data": {
      "text/latex": [
       "\\begin{equation}\n",
       "b{_{22}}\n",
       "\\end{equation}\n"
      ],
      "text/plain": [
       "b₂₂"
      ]
     },
     "execution_count": 7,
     "metadata": {},
     "output_type": "execute_result"
    }
   ],
   "source": [
    "B[2,2]"
   ]
  },
  {
   "cell_type": "code",
   "execution_count": 8,
   "id": "620eb9c2-ebf9-4ea6-8c41-daaa0f5b6e0f",
   "metadata": {},
   "outputs": [
    {
     "data": {
      "text/latex": [
       "\\begin{equation}\n",
       "\\left[\n",
       "\\begin{array}{cc}\n",
       "a{_{11}} b{_{11}} + a{_{12}} b{_{21}} + a{_{13}} b{_{31}} + a{_{14}} b{_{41}} & a{_{11}} b{_{12}} + a{_{12}} b{_{22}} + a{_{13}} b{_{32}} + a{_{14}} b{_{42}} \\\\\n",
       "a{_{21}} b{_{11}} + a{_{22}} b{_{21}} + a{_{33}} b{_{31}} + a{_{44}} b{_{41}} & a{_{21}} b{_{12}} + a{_{22}} b{_{22}} + a{_{33}} b{_{32}} + a{_{44}} b{_{42}} \\\\\n",
       "\\end{array}\n",
       "\\right]\n",
       "\\end{equation}\n"
      ],
      "text/plain": [
       "2×2 Matrix{Num}:\n",
       " a₁₁*b₁₁ + a₁₂*b₂₁ + a₁₃*b₃₁ + a₁₄*b₄₁  a₁₁*b₁₂ + a₁₂*b₂₂ + a₁₃*b₃₂ + a₁₄*b₄₂\n",
       " a₂₁*b₁₁ + a₂₂*b₂₁ + a₃₃*b₃₁ + a₄₄*b₄₁  a₂₁*b₁₂ + a₂₂*b₂₂ + a₃₃*b₃₂ + a₄₄*b₄₂"
      ]
     },
     "execution_count": 8,
     "metadata": {},
     "output_type": "execute_result"
    }
   ],
   "source": [
    "C=A*B"
   ]
  },
  {
   "cell_type": "code",
   "execution_count": 9,
   "id": "2822339f-79ee-4859-9cb8-7c49889dd633",
   "metadata": {},
   "outputs": [
    {
     "data": {
      "text/plain": [
       "(2, 2)"
      ]
     },
     "execution_count": 9,
     "metadata": {},
     "output_type": "execute_result"
    }
   ],
   "source": [
    "size(C)"
   ]
  },
  {
   "cell_type": "code",
   "execution_count": 10,
   "id": "ce98df41-f5a2-46dc-a29e-cddbf3170107",
   "metadata": {},
   "outputs": [
    {
     "data": {
      "text/latex": [
       "\\begin{equation}\n",
       "a{_{11}} b{_{12}} + a{_{12}} b{_{22}} + a{_{13}} b{_{32}} + a{_{14}} b{_{42}}\n",
       "\\end{equation}\n"
      ],
      "text/plain": [
       "a₁₁*b₁₂ + a₁₂*b₂₂ + a₁₃*b₃₂ + a₁₄*b₄₂"
      ]
     },
     "execution_count": 10,
     "metadata": {},
     "output_type": "execute_result"
    }
   ],
   "source": [
    "C[1,2]"
   ]
  },
  {
   "cell_type": "code",
   "execution_count": 11,
   "id": "afa04167-f1bf-4bcf-9b9f-3727431a27a7",
   "metadata": {},
   "outputs": [
    {
     "data": {
      "text/latex": [
       "\\begin{equation}\n",
       "\\left[\n",
       "\\begin{array}{cc}\n",
       "a{_{11}} b{_{11}} + a{_{12}} b{_{21}} + a{_{13}} b{_{31}} + a{_{14}} b{_{41}} & a{_{21}} b{_{11}} + a{_{22}} b{_{21}} + a{_{33}} b{_{31}} + a{_{44}} b{_{41}} \\\\\n",
       "a{_{11}} b{_{12}} + a{_{12}} b{_{22}} + a{_{13}} b{_{32}} + a{_{14}} b{_{42}} & a{_{21}} b{_{12}} + a{_{22}} b{_{22}} + a{_{33}} b{_{32}} + a{_{44}} b{_{42}} \\\\\n",
       "\\end{array}\n",
       "\\right]\n",
       "\\end{equation}\n"
      ],
      "text/plain": [
       "2×2 adjoint(::Matrix{Num}) with eltype Num:\n",
       " a₁₁*b₁₁ + a₁₂*b₂₁ + a₁₃*b₃₁ + a₁₄*b₄₁  a₂₁*b₁₁ + a₂₂*b₂₁ + a₃₃*b₃₁ + a₄₄*b₄₁\n",
       " a₁₁*b₁₂ + a₁₂*b₂₂ + a₁₃*b₃₂ + a₁₄*b₄₂  a₂₁*b₁₂ + a₂₂*b₂₂ + a₃₃*b₃₂ + a₄₄*b₄₂"
      ]
     },
     "execution_count": 11,
     "metadata": {},
     "output_type": "execute_result"
    }
   ],
   "source": [
    "C'"
   ]
  },
  {
   "cell_type": "code",
   "execution_count": 12,
   "id": "353f9b0e-3f09-4d17-91fe-737a8ee8971a",
   "metadata": {},
   "outputs": [
    {
     "data": {
      "text/latex": [
       "\\begin{equation}\n",
       "a{_{11}} b{_{11}} + a{_{21}} b{_{12}} + a{_{12}} b{_{21}} + a{_{22}} b{_{22}} + a{_{13}} b{_{31}} + a{_{33}} b{_{32}} + a{_{14}} b{_{41}} + a{_{44}} b{_{42}}\n",
       "\\end{equation}\n"
      ],
      "text/plain": [
       "a₁₁*b₁₁ + a₂₁*b₁₂ + a₁₂*b₂₁ + a₂₂*b₂₂ + a₁₃*b₃₁ + a₃₃*b₃₂ + a₁₄*b₄₁ + a₄₄*b₄₂"
      ]
     },
     "execution_count": 12,
     "metadata": {},
     "output_type": "execute_result"
    }
   ],
   "source": [
    "tr(C)"
   ]
  },
  {
   "cell_type": "code",
   "execution_count": 13,
   "id": "1f0fc0c9-76d7-4fdb-8f50-0afbf548d808",
   "metadata": {
    "tags": []
   },
   "outputs": [
    {
     "data": {
      "text/latex": [
       "\\begin{equation}\n",
       "\\left( a{_{11}} b{_{11}} + a{_{12}} b{_{21}} + a{_{13}} b{_{31}} + a{_{14}} b{_{41}} \\right) \\left( a{_{21}} b{_{12}} + a{_{22}} b{_{22}} + a{_{33}} b{_{32}} + a{_{44}} b{_{42}} \\right) - \\left( a{_{11}} b{_{12}} + a{_{12}} b{_{22}} + a{_{13}} b{_{32}} + a{_{14}} b{_{42}} \\right) \\left( a{_{21}} b{_{11}} + a{_{22}} b{_{21}} + a{_{33}} b{_{31}} + a{_{44}} b{_{41}} \\right)\n",
       "\\end{equation}\n"
      ],
      "text/plain": [
       "(a₁₁*b₁₁ + a₁₂*b₂₁ + a₁₃*b₃₁ + a₁₄*b₄₁)*(a₂₁*b₁₂ + a₂₂*b₂₂ + a₃₃*b₃₂ + a₄₄*b₄₂) - (a₁₁*b₁₂ + a₁₂*b₂₂ + a₁₃*b₃₂ + a₁₄*b₄₂)*(a₂₁*b₁₁ + a₂₂*b₂₁ + a₃₃*b₃₁ + a₄₄*b₄₁)"
      ]
     },
     "execution_count": 13,
     "metadata": {},
     "output_type": "execute_result"
    }
   ],
   "source": [
    "det(C)"
   ]
  },
  {
   "cell_type": "code",
   "execution_count": 14,
   "id": "65eebb24-eee8-4d43-ad40-eff294879b4f",
   "metadata": {},
   "outputs": [],
   "source": [
    "@variables AA[1:2,1:4] BB[1:4,1:2];"
   ]
  },
  {
   "cell_type": "code",
   "execution_count": 15,
   "id": "bc6afa8d-35be-42b5-a663-8ddde79122f3",
   "metadata": {},
   "outputs": [
    {
     "data": {
      "text/plain": [
       "(2, 4)"
      ]
     },
     "execution_count": 15,
     "metadata": {},
     "output_type": "execute_result"
    }
   ],
   "source": [
    "size(AA)"
   ]
  },
  {
   "cell_type": "code",
   "execution_count": 16,
   "id": "852c4a9f-aaed-42a9-867d-a318a0c19c37",
   "metadata": {},
   "outputs": [
    {
     "data": {
      "text/latex": [
       "\\begin{equation}\n",
       "AA{{_1}}ˏ{_1}\n",
       "\\end{equation}\n"
      ],
      "text/plain": [
       "AA[1, 1]"
      ]
     },
     "execution_count": 16,
     "metadata": {},
     "output_type": "execute_result"
    }
   ],
   "source": [
    "AA[1,1]"
   ]
  },
  {
   "cell_type": "code",
   "execution_count": 17,
   "id": "d52f35a2-71ed-4e93-a69c-73bb4a809692",
   "metadata": {},
   "outputs": [
    {
     "data": {
      "text/latex": [
       "\\begin{equation}\n",
       "AA{{_1}}ˏ{_1}\n",
       "\\end{equation}\n"
      ],
      "text/plain": [
       "AA[1, 1]"
      ]
     },
     "execution_count": 17,
     "metadata": {},
     "output_type": "execute_result"
    }
   ],
   "source": [
    "eval(AA[1,1])"
   ]
  },
  {
   "cell_type": "code",
   "execution_count": 18,
   "id": "a0688de8-fd31-4c19-ba80-e28504c34d2a",
   "metadata": {},
   "outputs": [
    {
     "data": {
      "text/plain": [
       "(4, 2)"
      ]
     },
     "execution_count": 18,
     "metadata": {},
     "output_type": "execute_result"
    }
   ],
   "source": [
    "size(BB)"
   ]
  },
  {
   "cell_type": "code",
   "execution_count": 19,
   "id": "b84b9b4a-689a-48a1-a680-b1a83edf93e7",
   "metadata": {},
   "outputs": [
    {
     "data": {
      "text/latex": [
       "\\begin{equation}\n",
       "AA BB\n",
       "\\end{equation}\n"
      ],
      "text/plain": [
       "(AA*BB)[1:2,1:2]"
      ]
     },
     "execution_count": 19,
     "metadata": {},
     "output_type": "execute_result"
    }
   ],
   "source": [
    "CC=AA*BB"
   ]
  },
  {
   "cell_type": "code",
   "execution_count": 20,
   "id": "5bbd48d8-8931-48d8-8623-b29445afdde0",
   "metadata": {},
   "outputs": [
    {
     "data": {
      "text/plain": [
       "(2, 2)"
      ]
     },
     "execution_count": 20,
     "metadata": {},
     "output_type": "execute_result"
    }
   ],
   "source": [
    "size(CC)"
   ]
  },
  {
   "cell_type": "code",
   "execution_count": 21,
   "id": "750bd2a8-2304-476a-80f3-27863d7c9bc2",
   "metadata": {},
   "outputs": [
    {
     "data": {
      "text/latex": [
       "\\begin{equation}\n",
       "\\left[\n",
       "\\begin{array}{cc}\n",
       "AA{{_1}}ˏ{_1} BB{{_1}}ˏ{_1} + AA{{_1}}ˏ{_2} BB{{_2}}ˏ{_1} + AA{{_1}}ˏ{_3} BB{{_3}}ˏ{_1} + AA{{_1}}ˏ{_4} BB{{_4}}ˏ{_1} & AA{{_1}}ˏ{_1} BB{{_1}}ˏ{_2} + AA{{_1}}ˏ{_2} BB{{_2}}ˏ{_2} + AA{{_1}}ˏ{_3} BB{{_3}}ˏ{_2} + AA{{_1}}ˏ{_4} BB{{_4}}ˏ{_2} \\\\\n",
       "AA{{_2}}ˏ{_1} BB{{_1}}ˏ{_1} + AA{{_2}}ˏ{_2} BB{{_2}}ˏ{_1} + AA{{_2}}ˏ{_3} BB{{_3}}ˏ{_1} + AA{{_2}}ˏ{_4} BB{{_4}}ˏ{_1} & AA{{_2}}ˏ{_1} BB{{_1}}ˏ{_2} + AA{{_2}}ˏ{_2} BB{{_2}}ˏ{_2} + AA{{_2}}ˏ{_3} BB{{_3}}ˏ{_2} + AA{{_2}}ˏ{_4} BB{{_4}}ˏ{_2} \\\\\n",
       "\\end{array}\n",
       "\\right]\n",
       "\\end{equation}\n"
      ],
      "text/plain": [
       "2×2 Matrix{Num}:\n",
       " AA[1, 1]*BB[1, 1] + AA[1, 2]*BB[2, 1] + AA[1, 3]*BB[3, 1] + AA[1, 4]*BB[4, 1]  …  AA[1, 1]*BB[1, 2] + AA[1, 2]*BB[2, 2] + AA[1, 3]*BB[3, 2] + AA[1, 4]*BB[4, 2]\n",
       " AA[2, 1]*BB[1, 1] + AA[2, 2]*BB[2, 1] + AA[2, 3]*BB[3, 1] + AA[2, 4]*BB[4, 1]     AA[2, 1]*BB[1, 2] + AA[2, 2]*BB[2, 2] + AA[2, 3]*BB[3, 2] + AA[2, 4]*BB[4, 2]"
      ]
     },
     "execution_count": 21,
     "metadata": {},
     "output_type": "execute_result"
    }
   ],
   "source": [
    "Symbolics.scalarize(CC)"
   ]
  },
  {
   "cell_type": "code",
   "execution_count": 22,
   "id": "0cf0a869-fc46-4bb2-956e-ad74b22a5650",
   "metadata": {},
   "outputs": [
    {
     "data": {
      "text/latex": [
       "\\begin{equation}\n",
       "\\left[\n",
       "\\begin{array}{cc}\n",
       "AA{{_1}}ˏ{_1} BB{{_1}}ˏ{_1} + AA{{_1}}ˏ{_2} BB{{_2}}ˏ{_1} + AA{{_1}}ˏ{_3} BB{{_3}}ˏ{_1} + AA{{_1}}ˏ{_4} BB{{_4}}ˏ{_1} & AA{{_1}}ˏ{_1} BB{{_1}}ˏ{_2} + AA{{_1}}ˏ{_2} BB{{_2}}ˏ{_2} + AA{{_1}}ˏ{_3} BB{{_3}}ˏ{_2} + AA{{_1}}ˏ{_4} BB{{_4}}ˏ{_2} \\\\\n",
       "AA{{_2}}ˏ{_1} BB{{_1}}ˏ{_1} + AA{{_2}}ˏ{_2} BB{{_2}}ˏ{_1} + AA{{_2}}ˏ{_3} BB{{_3}}ˏ{_1} + AA{{_2}}ˏ{_4} BB{{_4}}ˏ{_1} & AA{{_2}}ˏ{_1} BB{{_1}}ˏ{_2} + AA{{_2}}ˏ{_2} BB{{_2}}ˏ{_2} + AA{{_2}}ˏ{_3} BB{{_3}}ˏ{_2} + AA{{_2}}ˏ{_4} BB{{_4}}ˏ{_2} \\\\\n",
       "\\end{array}\n",
       "\\right]\n",
       "\\end{equation}\n"
      ],
      "text/plain": [
       "2×2 Matrix{Num}:\n",
       " AA[1, 1]*BB[1, 1] + AA[1, 2]*BB[2, 1] + AA[1, 3]*BB[3, 1] + AA[1, 4]*BB[4, 1]  …  AA[1, 1]*BB[1, 2] + AA[1, 2]*BB[2, 2] + AA[1, 3]*BB[3, 2] + AA[1, 4]*BB[4, 2]\n",
       " AA[2, 1]*BB[1, 1] + AA[2, 2]*BB[2, 1] + AA[2, 3]*BB[3, 1] + AA[2, 4]*BB[4, 1]     AA[2, 1]*BB[1, 2] + AA[2, 2]*BB[2, 2] + AA[2, 3]*BB[3, 2] + AA[2, 4]*BB[4, 2]"
      ]
     },
     "execution_count": 22,
     "metadata": {},
     "output_type": "execute_result"
    }
   ],
   "source": [
    "Symbolics.scalarize(CC)"
   ]
  },
  {
   "cell_type": "markdown",
   "id": "d8045af4-48dc-4641-879d-74208b185386",
   "metadata": {},
   "source": [
    "## Application numérique "
   ]
  },
  {
   "cell_type": "code",
   "execution_count": 23,
   "id": "506b2919-344b-4da1-bc95-7aac6ea14ce9",
   "metadata": {},
   "outputs": [
    {
     "data": {
      "text/plain": [
       "2×4 Matrix{Int64}:\n",
       " 1  0  2  3\n",
       " 3  1  0  5"
      ]
     },
     "execution_count": 23,
     "metadata": {},
     "output_type": "execute_result"
    }
   ],
   "source": [
    "FAN=eval(build_function(A, [a₁₁, a₁₂, a₁₃, a₁₄, a₂₁, a₂₂, a₃₃, a₄₄])[1])\n",
    "AN=FAN([1, 0, 2, 3, 3, 1, 0, 5])"
   ]
  },
  {
   "cell_type": "code",
   "execution_count": 24,
   "id": "606d6fa6-97b4-49ba-a07b-0f48545eac6b",
   "metadata": {},
   "outputs": [
    {
     "data": {
      "text/plain": [
       "4×2 Matrix{Int64}:\n",
       " 4  9\n",
       " 3  1\n",
       " 1  6\n",
       " 7  5"
      ]
     },
     "execution_count": 24,
     "metadata": {},
     "output_type": "execute_result"
    }
   ],
   "source": [
    "FBN=eval(build_function(B, [b₁₁, b₁₂, b₂₁, b₂₂, b₃₁, b₃₂, b₄₁, b₄₂])[1])\n",
    "BN=FBN([4, 9, 3, 1, 1, 6, 7, 5])"
   ]
  },
  {
   "cell_type": "code",
   "execution_count": 25,
   "id": "0f57a433-38d6-43f8-8dd7-602d897f2350",
   "metadata": {},
   "outputs": [
    {
     "data": {
      "text/plain": [
       "2×2 Matrix{Int64}:\n",
       " 27  36\n",
       " 50  53"
      ]
     },
     "execution_count": 25,
     "metadata": {},
     "output_type": "execute_result"
    }
   ],
   "source": [
    "CN=AN*BN"
   ]
  },
  {
   "cell_type": "markdown",
   "id": "7c9a9283-604a-47e6-bb64-7a0f915d36cc",
   "metadata": {
    "tags": []
   },
   "source": [
    "# Exo 2\n",
    "$$\n",
    "\\overline{\\overline{T}} = \\left[\\begin{array}{ccc}\n",
    "1&3&-2 \\\\\n",
    "3&1&-2 \\\\\n",
    "-2&-2&6 \\\\\n",
    "\\end{array}\\right]$$"
   ]
  },
  {
   "cell_type": "code",
   "execution_count": 26,
   "id": "9c905bb7-bd84-4950-91dc-c9a3443f6693",
   "metadata": {},
   "outputs": [
    {
     "data": {
      "text/plain": [
       "3×3 Matrix{Int64}:\n",
       "  1   3  -2\n",
       "  3   1  -2\n",
       " -2  -2   6"
      ]
     },
     "execution_count": 26,
     "metadata": {},
     "output_type": "execute_result"
    }
   ],
   "source": [
    "T=[1 3 -2; 3 1 -2;-2 -2 6]"
   ]
  },
  {
   "cell_type": "code",
   "execution_count": 27,
   "id": "f83abcf7-ddea-4306-93cb-b3725b926d56",
   "metadata": {},
   "outputs": [
    {
     "data": {
      "text/plain": [
       "8"
      ]
     },
     "execution_count": 27,
     "metadata": {},
     "output_type": "execute_result"
    }
   ],
   "source": [
    "tr(T)"
   ]
  },
  {
   "cell_type": "code",
   "execution_count": 28,
   "id": "d1bc2336-f3f5-4e61-b1d9-6c727696dba3",
   "metadata": {},
   "outputs": [
    {
     "data": {
      "text/plain": [
       "-32.0"
      ]
     },
     "execution_count": 28,
     "metadata": {},
     "output_type": "execute_result"
    }
   ],
   "source": [
    "det(T)"
   ]
  },
  {
   "cell_type": "code",
   "execution_count": 29,
   "id": "a29ca5ed-6ecb-4f9a-bf91-d8da4a9d6e27",
   "metadata": {},
   "outputs": [
    {
     "data": {
      "text/plain": [
       "Eigen{Float64, Float64, Matrix{Float64}, Vector{Float64}}\n",
       "values:\n",
       "3-element Vector{Float64}:\n",
       " -1.9999999999999998\n",
       "  1.9999999999999991\n",
       "  7.999999999999999\n",
       "vectors:\n",
       "3×3 Matrix{Float64}:\n",
       "  0.707107  0.57735  -0.408248\n",
       " -0.707107  0.57735  -0.408248\n",
       "  0.0       0.57735   0.816497"
      ]
     },
     "execution_count": 29,
     "metadata": {},
     "output_type": "execute_result"
    }
   ],
   "source": [
    "eigen(T)"
   ]
  }
 ],
 "metadata": {
  "kernelspec": {
   "display_name": "Julia 1.7.2",
   "language": "julia",
   "name": "julia-1.7"
  },
  "language_info": {
   "file_extension": ".jl",
   "mimetype": "application/julia",
   "name": "julia",
   "version": "1.7.2"
  }
 },
 "nbformat": 4,
 "nbformat_minor": 5
}
