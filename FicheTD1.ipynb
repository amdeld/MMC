{
 "cells": [
  {
   "cell_type": "code",
   "execution_count": 1,
   "id": "7ec5d030-eec7-4919-80aa-860f04fe3791",
   "metadata": {},
   "outputs": [],
   "source": [
    "using Symbolics, LinearAlgebra"
   ]
  },
  {
   "cell_type": "markdown",
   "id": "e6ac675e-7099-43fa-be69-ee59a6d7c7ba",
   "metadata": {},
   "source": [
    "# Exo1\n",
    "$\\left[C\\right]=\\left[A\\right]\\left[B\\right]$  \n",
    "$c_{ij}=\\sum\\limits_{k=1}^{m=4}a_{ik}b_{kj}$"
   ]
  },
  {
   "cell_type": "code",
   "execution_count": 2,
   "id": "843db8c8-aa25-4167-a7cc-842cf397e15d",
   "metadata": {},
   "outputs": [],
   "source": [
    "@variables a₁₁ a₁₂ a₁₃ a₁₄ a₂₁ a₂₂ a₃₃ a₄₄; # 8 composantes de la matrice A\n",
    "@variables b₁₁ b₁₂ b₂₁ b₂₂ b₃₁ b₃₂ b₄₁ b₄₂; # 8 composantes de la matrice B"
   ]
  },
  {
   "cell_type": "code",
   "execution_count": 3,
   "id": "14ba5336-53d3-4c19-831e-2be4f82da902",
   "metadata": {},
   "outputs": [
    {
     "data": {
      "text/latex": [
       "\\begin{equation}\n",
       "\\left[\n",
       "\\begin{array}{cccc}\n",
       "a{_{11}} & a{_{12}} & a{_{13}} & a{_{14}} \\\\\n",
       "a{_{21}} & a{_{22}} & a{_{33}} & a{_{44}} \\\\\n",
       "\\end{array}\n",
       "\\right]\n",
       "\\end{equation}\n"
      ],
      "text/plain": [
       "2×4 Matrix{Num}:\n",
       " a₁₁  a₁₂  a₁₃  a₁₄\n",
       " a₂₁  a₂₂  a₃₃  a₄₄"
      ]
     },
     "execution_count": 3,
     "metadata": {},
     "output_type": "execute_result"
    }
   ],
   "source": [
    "A = [a₁₁ a₁₂ a₁₃ a₁₄; a₂₁ a₂₂ a₃₃ a₄₄]"
   ]
  },
  {
   "cell_type": "code",
   "execution_count": 4,
   "id": "0f9b1752-b64c-456b-8037-e12b524d6af3",
   "metadata": {},
   "outputs": [
    {
     "data": {
      "text/plain": [
       "(2, 4)"
      ]
     },
     "execution_count": 4,
     "metadata": {},
     "output_type": "execute_result"
    }
   ],
   "source": [
    "size(A)"
   ]
  },
  {
   "cell_type": "code",
   "execution_count": 5,
   "id": "95af020c-4afa-4c41-8b2a-9b1d60ad4510",
   "metadata": {},
   "outputs": [
    {
     "data": {
      "text/latex": [
       "\\begin{equation}\n",
       "a{_{11}}\n",
       "\\end{equation}\n"
      ],
      "text/plain": [
       "a₁₁"
      ]
     },
     "execution_count": 5,
     "metadata": {},
     "output_type": "execute_result"
    }
   ],
   "source": [
    "A[1,1]"
   ]
  },
  {
   "cell_type": "code",
   "execution_count": 6,
   "id": "c7f94f42-a13f-4aa6-aadd-69ffdd289338",
   "metadata": {},
   "outputs": [
    {
     "data": {
      "text/latex": [
       "\\begin{equation}\n",
       "\\left[\n",
       "\\begin{array}{cc}\n",
       "b{_{11}} & b{_{12}} \\\\\n",
       "b{_{21}} & b{_{22}} \\\\\n",
       "b{_{31}} & b{_{32}} \\\\\n",
       "b{_{41}} & b{_{42}} \\\\\n",
       "\\end{array}\n",
       "\\right]\n",
       "\\end{equation}\n"
      ],
      "text/plain": [
       "4×2 Matrix{Num}:\n",
       " b₁₁  b₁₂\n",
       " b₂₁  b₂₂\n",
       " b₃₁  b₃₂\n",
       " b₄₁  b₄₂"
      ]
     },
     "execution_count": 6,
     "metadata": {},
     "output_type": "execute_result"
    }
   ],
   "source": [
    "B = [b₁₁ b₁₂; b₂₁ b₂₂; b₃₁ b₃₂; b₄₁ b₄₂]"
   ]
  },
  {
   "cell_type": "code",
   "execution_count": 7,
   "id": "810e75c7-5ec3-431b-ab8a-8a5982bac126",
   "metadata": {},
   "outputs": [
    {
     "data": {
      "text/plain": [
       "(4, 2)"
      ]
     },
     "execution_count": 7,
     "metadata": {},
     "output_type": "execute_result"
    }
   ],
   "source": [
    "size(B)"
   ]
  },
  {
   "cell_type": "code",
   "execution_count": 8,
   "id": "814402df-76e2-48e7-980a-829556fb8345",
   "metadata": {},
   "outputs": [
    {
     "data": {
      "text/latex": [
       "\\begin{equation}\n",
       "b{_{22}}\n",
       "\\end{equation}\n"
      ],
      "text/plain": [
       "b₂₂"
      ]
     },
     "execution_count": 8,
     "metadata": {},
     "output_type": "execute_result"
    }
   ],
   "source": [
    "B[2,2]"
   ]
  },
  {
   "cell_type": "code",
   "execution_count": 9,
   "id": "620eb9c2-ebf9-4ea6-8c41-daaa0f5b6e0f",
   "metadata": {},
   "outputs": [
    {
     "data": {
      "text/latex": [
       "\\begin{equation}\n",
       "\\left[\n",
       "\\begin{array}{cc}\n",
       "a{_{11}} b{_{11}} + a{_{12}} b{_{21}} + a{_{13}} b{_{31}} + a{_{14}} b{_{41}} & a{_{11}} b{_{12}} + a{_{12}} b{_{22}} + a{_{13}} b{_{32}} + a{_{14}} b{_{42}} \\\\\n",
       "a{_{21}} b{_{11}} + a{_{22}} b{_{21}} + a{_{33}} b{_{31}} + a{_{44}} b{_{41}} & a{_{21}} b{_{12}} + a{_{22}} b{_{22}} + a{_{33}} b{_{32}} + a{_{44}} b{_{42}} \\\\\n",
       "\\end{array}\n",
       "\\right]\n",
       "\\end{equation}\n"
      ],
      "text/plain": [
       "2×2 Matrix{Num}:\n",
       " a₁₁*b₁₁ + a₁₂*b₂₁ + a₁₃*b₃₁ + a₁₄*b₄₁  a₁₁*b₁₂ + a₁₂*b₂₂ + a₁₃*b₃₂ + a₁₄*b₄₂\n",
       " a₂₁*b₁₁ + a₂₂*b₂₁ + a₃₃*b₃₁ + a₄₄*b₄₁  a₂₁*b₁₂ + a₂₂*b₂₂ + a₃₃*b₃₂ + a₄₄*b₄₂"
      ]
     },
     "execution_count": 9,
     "metadata": {},
     "output_type": "execute_result"
    }
   ],
   "source": [
    "C=A*B"
   ]
  },
  {
   "cell_type": "code",
   "execution_count": 10,
   "id": "2822339f-79ee-4859-9cb8-7c49889dd633",
   "metadata": {},
   "outputs": [
    {
     "data": {
      "text/plain": [
       "(2, 2)"
      ]
     },
     "execution_count": 10,
     "metadata": {},
     "output_type": "execute_result"
    }
   ],
   "source": [
    "size(C)"
   ]
  },
  {
   "cell_type": "code",
   "execution_count": 11,
   "id": "ce98df41-f5a2-46dc-a29e-cddbf3170107",
   "metadata": {},
   "outputs": [
    {
     "data": {
      "text/latex": [
       "\\begin{equation}\n",
       "a{_{11}} b{_{12}} + a{_{12}} b{_{22}} + a{_{13}} b{_{32}} + a{_{14}} b{_{42}}\n",
       "\\end{equation}\n"
      ],
      "text/plain": [
       "a₁₁*b₁₂ + a₁₂*b₂₂ + a₁₃*b₃₂ + a₁₄*b₄₂"
      ]
     },
     "execution_count": 11,
     "metadata": {},
     "output_type": "execute_result"
    }
   ],
   "source": [
    "C[1,2]"
   ]
  },
  {
   "cell_type": "code",
   "execution_count": 12,
   "id": "afa04167-f1bf-4bcf-9b9f-3727431a27a7",
   "metadata": {},
   "outputs": [
    {
     "data": {
      "text/latex": [
       "\\begin{equation}\n",
       "\\left[\n",
       "\\begin{array}{cc}\n",
       "a{_{11}} b{_{11}} + a{_{12}} b{_{21}} + a{_{13}} b{_{31}} + a{_{14}} b{_{41}} & a{_{21}} b{_{11}} + a{_{22}} b{_{21}} + a{_{33}} b{_{31}} + a{_{44}} b{_{41}} \\\\\n",
       "a{_{11}} b{_{12}} + a{_{12}} b{_{22}} + a{_{13}} b{_{32}} + a{_{14}} b{_{42}} & a{_{21}} b{_{12}} + a{_{22}} b{_{22}} + a{_{33}} b{_{32}} + a{_{44}} b{_{42}} \\\\\n",
       "\\end{array}\n",
       "\\right]\n",
       "\\end{equation}\n"
      ],
      "text/plain": [
       "2×2 adjoint(::Matrix{Num}) with eltype Num:\n",
       " a₁₁*b₁₁ + a₁₂*b₂₁ + a₁₃*b₃₁ + a₁₄*b₄₁  a₂₁*b₁₁ + a₂₂*b₂₁ + a₃₃*b₃₁ + a₄₄*b₄₁\n",
       " a₁₁*b₁₂ + a₁₂*b₂₂ + a₁₃*b₃₂ + a₁₄*b₄₂  a₂₁*b₁₂ + a₂₂*b₂₂ + a₃₃*b₃₂ + a₄₄*b₄₂"
      ]
     },
     "execution_count": 12,
     "metadata": {},
     "output_type": "execute_result"
    }
   ],
   "source": [
    "C'"
   ]
  },
  {
   "cell_type": "code",
   "execution_count": 13,
   "id": "353f9b0e-3f09-4d17-91fe-737a8ee8971a",
   "metadata": {},
   "outputs": [
    {
     "data": {
      "text/latex": [
       "\\begin{equation}\n",
       "a{_{11}} b{_{11}} + a{_{21}} b{_{12}} + a{_{12}} b{_{21}} + a{_{22}} b{_{22}} + a{_{13}} b{_{31}} + a{_{33}} b{_{32}} + a{_{14}} b{_{41}} + a{_{44}} b{_{42}}\n",
       "\\end{equation}\n"
      ],
      "text/plain": [
       "a₁₁*b₁₁ + a₂₁*b₁₂ + a₁₂*b₂₁ + a₂₂*b₂₂ + a₁₃*b₃₁ + a₃₃*b₃₂ + a₁₄*b₄₁ + a₄₄*b₄₂"
      ]
     },
     "execution_count": 13,
     "metadata": {},
     "output_type": "execute_result"
    }
   ],
   "source": [
    "tr(C)"
   ]
  },
  {
   "cell_type": "code",
   "execution_count": 14,
   "id": "1f0fc0c9-76d7-4fdb-8f50-0afbf548d808",
   "metadata": {
    "tags": []
   },
   "outputs": [
    {
     "data": {
      "text/latex": [
       "\\begin{equation}\n",
       "\\left( a{_{11}} b{_{11}} + a{_{12}} b{_{21}} + a{_{13}} b{_{31}} + a{_{14}} b{_{41}} \\right) \\left( a{_{21}} b{_{12}} + a{_{22}} b{_{22}} + a{_{33}} b{_{32}} + a{_{44}} b{_{42}} \\right) - \\left( a{_{11}} b{_{12}} + a{_{12}} b{_{22}} + a{_{13}} b{_{32}} + a{_{14}} b{_{42}} \\right) \\left( a{_{21}} b{_{11}} + a{_{22}} b{_{21}} + a{_{33}} b{_{31}} + a{_{44}} b{_{41}} \\right)\n",
       "\\end{equation}\n"
      ],
      "text/plain": [
       "(a₁₁*b₁₁ + a₁₂*b₂₁ + a₁₃*b₃₁ + a₁₄*b₄₁)*(a₂₁*b₁₂ + a₂₂*b₂₂ + a₃₃*b₃₂ + a₄₄*b₄₂) - (a₁₁*b₁₂ + a₁₂*b₂₂ + a₁₃*b₃₂ + a₁₄*b₄₂)*(a₂₁*b₁₁ + a₂₂*b₂₁ + a₃₃*b₃₁ + a₄₄*b₄₁)"
      ]
     },
     "execution_count": 14,
     "metadata": {},
     "output_type": "execute_result"
    }
   ],
   "source": [
    "det(C)"
   ]
  },
  {
   "cell_type": "code",
   "execution_count": 15,
   "id": "65eebb24-eee8-4d43-ad40-eff294879b4f",
   "metadata": {},
   "outputs": [],
   "source": [
    "@variables AA[1:2,1:4] BB[1:4,1:2];"
   ]
  },
  {
   "cell_type": "code",
   "execution_count": 16,
   "id": "bc6afa8d-35be-42b5-a663-8ddde79122f3",
   "metadata": {},
   "outputs": [
    {
     "data": {
      "text/plain": [
       "(2, 4)"
      ]
     },
     "execution_count": 16,
     "metadata": {},
     "output_type": "execute_result"
    }
   ],
   "source": [
    "size(AA)"
   ]
  },
  {
   "cell_type": "code",
   "execution_count": 17,
   "id": "852c4a9f-aaed-42a9-867d-a318a0c19c37",
   "metadata": {},
   "outputs": [
    {
     "data": {
      "text/latex": [
       "\\begin{equation}\n",
       "AA{{_1}}ˏ{_1}\n",
       "\\end{equation}\n"
      ],
      "text/plain": [
       "AA[1, 1]"
      ]
     },
     "execution_count": 17,
     "metadata": {},
     "output_type": "execute_result"
    }
   ],
   "source": [
    "AA[1,1]"
   ]
  },
  {
   "cell_type": "code",
   "execution_count": 18,
   "id": "d52f35a2-71ed-4e93-a69c-73bb4a809692",
   "metadata": {},
   "outputs": [
    {
     "data": {
      "text/latex": [
       "\\begin{equation}\n",
       "AA{{_1}}ˏ{_1}\n",
       "\\end{equation}\n"
      ],
      "text/plain": [
       "AA[1, 1]"
      ]
     },
     "execution_count": 18,
     "metadata": {},
     "output_type": "execute_result"
    }
   ],
   "source": [
    "eval(AA[1,1])"
   ]
  },
  {
   "cell_type": "code",
   "execution_count": 19,
   "id": "a0688de8-fd31-4c19-ba80-e28504c34d2a",
   "metadata": {},
   "outputs": [
    {
     "data": {
      "text/plain": [
       "(4, 2)"
      ]
     },
     "execution_count": 19,
     "metadata": {},
     "output_type": "execute_result"
    }
   ],
   "source": [
    "size(BB)"
   ]
  },
  {
   "cell_type": "code",
   "execution_count": 20,
   "id": "b84b9b4a-689a-48a1-a680-b1a83edf93e7",
   "metadata": {},
   "outputs": [
    {
     "data": {
      "text/latex": [
       "\\begin{equation}\n",
       "AA BB\n",
       "\\end{equation}\n"
      ],
      "text/plain": [
       "(AA*BB)[1:2,1:2]"
      ]
     },
     "execution_count": 20,
     "metadata": {},
     "output_type": "execute_result"
    }
   ],
   "source": [
    "CC=AA*BB"
   ]
  },
  {
   "cell_type": "code",
   "execution_count": 21,
   "id": "5bbd48d8-8931-48d8-8623-b29445afdde0",
   "metadata": {},
   "outputs": [
    {
     "data": {
      "text/plain": [
       "(2, 2)"
      ]
     },
     "execution_count": 21,
     "metadata": {},
     "output_type": "execute_result"
    }
   ],
   "source": [
    "size(CC)"
   ]
  },
  {
   "cell_type": "code",
   "execution_count": 22,
   "id": "750bd2a8-2304-476a-80f3-27863d7c9bc2",
   "metadata": {},
   "outputs": [
    {
     "data": {
      "text/latex": [
       "\\begin{equation}\n",
       "\\left[\n",
       "\\begin{array}{cc}\n",
       "AA{{_1}}ˏ{_1} BB{{_1}}ˏ{_1} + AA{{_1}}ˏ{_2} BB{{_2}}ˏ{_1} + AA{{_1}}ˏ{_3} BB{{_3}}ˏ{_1} + AA{{_1}}ˏ{_4} BB{{_4}}ˏ{_1} & AA{{_1}}ˏ{_1} BB{{_1}}ˏ{_2} + AA{{_1}}ˏ{_2} BB{{_2}}ˏ{_2} + AA{{_1}}ˏ{_3} BB{{_3}}ˏ{_2} + AA{{_1}}ˏ{_4} BB{{_4}}ˏ{_2} \\\\\n",
       "AA{{_2}}ˏ{_1} BB{{_1}}ˏ{_1} + AA{{_2}}ˏ{_2} BB{{_2}}ˏ{_1} + AA{{_2}}ˏ{_3} BB{{_3}}ˏ{_1} + AA{{_2}}ˏ{_4} BB{{_4}}ˏ{_1} & AA{{_2}}ˏ{_1} BB{{_1}}ˏ{_2} + AA{{_2}}ˏ{_2} BB{{_2}}ˏ{_2} + AA{{_2}}ˏ{_3} BB{{_3}}ˏ{_2} + AA{{_2}}ˏ{_4} BB{{_4}}ˏ{_2} \\\\\n",
       "\\end{array}\n",
       "\\right]\n",
       "\\end{equation}\n"
      ],
      "text/plain": [
       "2×2 Matrix{Num}:\n",
       " AA[1, 1]*BB[1, 1] + AA[1, 2]*BB[2, 1] + AA[1, 3]*BB[3, 1] + AA[1, 4]*BB[4, 1]  …  AA[1, 1]*BB[1, 2] + AA[1, 2]*BB[2, 2] + AA[1, 3]*BB[3, 2] + AA[1, 4]*BB[4, 2]\n",
       " AA[2, 1]*BB[1, 1] + AA[2, 2]*BB[2, 1] + AA[2, 3]*BB[3, 1] + AA[2, 4]*BB[4, 1]     AA[2, 1]*BB[1, 2] + AA[2, 2]*BB[2, 2] + AA[2, 3]*BB[3, 2] + AA[2, 4]*BB[4, 2]"
      ]
     },
     "execution_count": 22,
     "metadata": {},
     "output_type": "execute_result"
    }
   ],
   "source": [
    "Symbolics.scalarize(CC)"
   ]
  },
  {
   "cell_type": "code",
   "execution_count": 23,
   "id": "0cf0a869-fc46-4bb2-956e-ad74b22a5650",
   "metadata": {},
   "outputs": [
    {
     "data": {
      "text/latex": [
       "\\begin{equation}\n",
       "\\left[\n",
       "\\begin{array}{cc}\n",
       "AA{{_1}}ˏ{_1} BB{{_1}}ˏ{_1} + AA{{_1}}ˏ{_2} BB{{_2}}ˏ{_1} + AA{{_1}}ˏ{_3} BB{{_3}}ˏ{_1} + AA{{_1}}ˏ{_4} BB{{_4}}ˏ{_1} & AA{{_1}}ˏ{_1} BB{{_1}}ˏ{_2} + AA{{_1}}ˏ{_2} BB{{_2}}ˏ{_2} + AA{{_1}}ˏ{_3} BB{{_3}}ˏ{_2} + AA{{_1}}ˏ{_4} BB{{_4}}ˏ{_2} \\\\\n",
       "AA{{_2}}ˏ{_1} BB{{_1}}ˏ{_1} + AA{{_2}}ˏ{_2} BB{{_2}}ˏ{_1} + AA{{_2}}ˏ{_3} BB{{_3}}ˏ{_1} + AA{{_2}}ˏ{_4} BB{{_4}}ˏ{_1} & AA{{_2}}ˏ{_1} BB{{_1}}ˏ{_2} + AA{{_2}}ˏ{_2} BB{{_2}}ˏ{_2} + AA{{_2}}ˏ{_3} BB{{_3}}ˏ{_2} + AA{{_2}}ˏ{_4} BB{{_4}}ˏ{_2} \\\\\n",
       "\\end{array}\n",
       "\\right]\n",
       "\\end{equation}\n"
      ],
      "text/plain": [
       "2×2 Matrix{Num}:\n",
       " AA[1, 1]*BB[1, 1] + AA[1, 2]*BB[2, 1] + AA[1, 3]*BB[3, 1] + AA[1, 4]*BB[4, 1]  …  AA[1, 1]*BB[1, 2] + AA[1, 2]*BB[2, 2] + AA[1, 3]*BB[3, 2] + AA[1, 4]*BB[4, 2]\n",
       " AA[2, 1]*BB[1, 1] + AA[2, 2]*BB[2, 1] + AA[2, 3]*BB[3, 1] + AA[2, 4]*BB[4, 1]     AA[2, 1]*BB[1, 2] + AA[2, 2]*BB[2, 2] + AA[2, 3]*BB[3, 2] + AA[2, 4]*BB[4, 2]"
      ]
     },
     "execution_count": 23,
     "metadata": {},
     "output_type": "execute_result"
    }
   ],
   "source": [
    "Symbolics.scalarize(CC)"
   ]
  },
  {
   "cell_type": "markdown",
   "id": "d8045af4-48dc-4641-879d-74208b185386",
   "metadata": {},
   "source": [
    "## Application numérique "
   ]
  },
  {
   "cell_type": "code",
   "execution_count": 24,
   "id": "506b2919-344b-4da1-bc95-7aac6ea14ce9",
   "metadata": {},
   "outputs": [
    {
     "data": {
      "text/plain": [
       "2×4 Matrix{Int64}:\n",
       " 1  0  2  3\n",
       " 3  1  0  5"
      ]
     },
     "execution_count": 24,
     "metadata": {},
     "output_type": "execute_result"
    }
   ],
   "source": [
    "FAN=eval(build_function(A, [a₁₁, a₁₂, a₁₃, a₁₄, a₂₁, a₂₂, a₃₃, a₄₄])[1])\n",
    "AN=FAN([1, 0, 2, 3, 3, 1, 0, 5])"
   ]
  },
  {
   "cell_type": "code",
   "execution_count": 25,
   "id": "606d6fa6-97b4-49ba-a07b-0f48545eac6b",
   "metadata": {},
   "outputs": [
    {
     "data": {
      "text/plain": [
       "4×2 Matrix{Int64}:\n",
       " 4  9\n",
       " 3  1\n",
       " 1  6\n",
       " 7  5"
      ]
     },
     "execution_count": 25,
     "metadata": {},
     "output_type": "execute_result"
    }
   ],
   "source": [
    "FBN=eval(build_function(B, [b₁₁, b₁₂, b₂₁, b₂₂, b₃₁, b₃₂, b₄₁, b₄₂])[1])\n",
    "BN=FBN([4, 9, 3, 1, 1, 6, 7, 5])"
   ]
  },
  {
   "cell_type": "code",
   "execution_count": 26,
   "id": "0f57a433-38d6-43f8-8dd7-602d897f2350",
   "metadata": {},
   "outputs": [
    {
     "data": {
      "text/plain": [
       "2×2 Matrix{Int64}:\n",
       " 27  36\n",
       " 50  53"
      ]
     },
     "execution_count": 26,
     "metadata": {},
     "output_type": "execute_result"
    }
   ],
   "source": [
    "CN=AN*BN"
   ]
  },
  {
   "cell_type": "markdown",
   "id": "7c9a9283-604a-47e6-bb64-7a0f915d36cc",
   "metadata": {
    "tags": []
   },
   "source": [
    "# Exo 2\n",
    "$$\n",
    "\\overline{\\overline{T}} = \\left[\\begin{array}{ccc}\n",
    "1&3&-2 \\\\\n",
    "3&1&-2 \\\\\n",
    "-2&-2&6 \\\\\n",
    "\\end{array}\\right]$$"
   ]
  },
  {
   "cell_type": "code",
   "execution_count": 27,
   "id": "9c905bb7-bd84-4950-91dc-c9a3443f6693",
   "metadata": {},
   "outputs": [
    {
     "data": {
      "text/plain": [
       "3×3 Matrix{Int64}:\n",
       "  1   3  -2\n",
       "  3   1  -2\n",
       " -2  -2   6"
      ]
     },
     "execution_count": 27,
     "metadata": {},
     "output_type": "execute_result"
    }
   ],
   "source": [
    "T=[1 3 -2; 3 1 -2;-2 -2 6]"
   ]
  },
  {
   "cell_type": "code",
   "execution_count": 28,
   "id": "f83abcf7-ddea-4306-93cb-b3725b926d56",
   "metadata": {},
   "outputs": [
    {
     "data": {
      "text/plain": [
       "8"
      ]
     },
     "execution_count": 28,
     "metadata": {},
     "output_type": "execute_result"
    }
   ],
   "source": [
    "tr(T)"
   ]
  },
  {
   "cell_type": "code",
   "execution_count": 29,
   "id": "d1bc2336-f3f5-4e61-b1d9-6c727696dba3",
   "metadata": {},
   "outputs": [
    {
     "data": {
      "text/plain": [
       "-32.0"
      ]
     },
     "execution_count": 29,
     "metadata": {},
     "output_type": "execute_result"
    }
   ],
   "source": [
    "det(T)"
   ]
  },
  {
   "cell_type": "code",
   "execution_count": 30,
   "id": "9c74eeeb-7aed-4881-876c-c412e26ad19c",
   "metadata": {},
   "outputs": [
    {
     "data": {
      "text/plain": [
       "8"
      ]
     },
     "execution_count": 30,
     "metadata": {},
     "output_type": "execute_result"
    }
   ],
   "source": [
    "I₁=tr(T)"
   ]
  },
  {
   "cell_type": "code",
   "execution_count": 31,
   "id": "f63fbfae-581c-4be5-8042-f982320b716f",
   "metadata": {},
   "outputs": [
    {
     "data": {
      "text/plain": [
       "-4.0"
      ]
     },
     "execution_count": 31,
     "metadata": {},
     "output_type": "execute_result"
    }
   ],
   "source": [
    "I₂=0.5*(tr(T)^2 -tr(T*T))"
   ]
  },
  {
   "cell_type": "code",
   "execution_count": 32,
   "id": "461a39c9-3dbd-4f5d-a637-93bb4e03c8d2",
   "metadata": {},
   "outputs": [
    {
     "data": {
      "text/plain": [
       "-32.0"
      ]
     },
     "execution_count": 32,
     "metadata": {},
     "output_type": "execute_result"
    }
   ],
   "source": [
    "I₃=det(T)"
   ]
  },
  {
   "cell_type": "code",
   "execution_count": 33,
   "id": "b900d7df-d179-427d-8530-b80622f9d426",
   "metadata": {},
   "outputs": [
    {
     "name": "stdout",
     "output_type": "stream",
     "text": [
      "Polynôme caractéristique: -λ³ + 8λ² + 4.0λ -32.0 = 0\n"
     ]
    }
   ],
   "source": [
    "println(\"Polynôme caractéristique: -λ³ + $(I₁)λ² + $(-I₂)λ $(I₃) = 0\") "
   ]
  },
  {
   "cell_type": "code",
   "execution_count": 34,
   "id": "a29ca5ed-6ecb-4f9a-bf91-d8da4a9d6e27",
   "metadata": {},
   "outputs": [
    {
     "data": {
      "text/plain": [
       "Eigen{Float64, Float64, Matrix{Float64}, Vector{Float64}}\n",
       "values:\n",
       "3-element Vector{Float64}:\n",
       " -1.9999999999999998\n",
       "  1.9999999999999991\n",
       "  7.999999999999999\n",
       "vectors:\n",
       "3×3 Matrix{Float64}:\n",
       "  0.707107  0.57735  -0.408248\n",
       " -0.707107  0.57735  -0.408248\n",
       "  0.0       0.57735   0.816497"
      ]
     },
     "execution_count": 34,
     "metadata": {},
     "output_type": "execute_result"
    }
   ],
   "source": [
    "eigen(T)"
   ]
  },
  {
   "cell_type": "markdown",
   "id": "3ab05eb2-a3f8-4d12-abee-da83b8eaa485",
   "metadata": {},
   "source": [
    "Matrice diagonalisée dans le repère des vecteurs propres\n",
    "$$\\overline{\\overline{T}} = \\left[\\begin{array}{ccc}\n",
    "T_{I}&0&0 \\\\\n",
    "0&T_{II}&0 \\\\\n",
    "0&0&T_{III} \\\\\n",
    "\\end{array}\\right]$$\n",
    "avec $T_{I}=8$, $T_{I}=2$,$T_{I}=-2$\n",
    "soit\n",
    "$$\\overline{\\overline{T}} = \\left[\\begin{array}{ccc}\n",
    "8&0&0 \\\\\n",
    "0&2&0 \\\\\n",
    "0&0&-2 \\\\\n",
    "\\end{array}\\right]$$"
   ]
  },
  {
   "cell_type": "markdown",
   "id": "26b70831-ca4c-42cd-9a36-64ecd71678f1",
   "metadata": {},
   "source": [
    "# Exo 3"
   ]
  },
  {
   "cell_type": "code",
   "execution_count": 35,
   "id": "442eb3fd-f1d0-418c-b566-30313424dd7b",
   "metadata": {},
   "outputs": [],
   "source": [
    "# 3 coordonnées d'espace\n",
    "@variables X₁, X₂, X₃\n",
    "# 3 composantes fonction des 3 coordonnées d'espace\n",
    "@variables u₁(X₁, X₂, X₃), u₂(X₁, X₂, X₃), u₃(X₁, X₂, X₃);"
   ]
  },
  {
   "cell_type": "code",
   "execution_count": 36,
   "id": "9ba287dd-a3af-4c98-bbf1-bbdb7e31ba06",
   "metadata": {},
   "outputs": [
    {
     "data": {
      "text/latex": [
       "\\begin{equation}\n",
       "\\left[\n",
       "\\begin{array}{c}\n",
       "\\mathrm{u{_1}}\\left( X{_1}, X{_2}, X{_3} \\right) \\\\\n",
       "\\mathrm{u{_2}}\\left( X{_1}, X{_2}, X{_3} \\right) \\\\\n",
       "\\mathrm{u{_3}}\\left( X{_1}, X{_2}, X{_3} \\right) \\\\\n",
       "\\end{array}\n",
       "\\right]\n",
       "\\end{equation}\n"
      ],
      "text/plain": [
       "3-element Vector{Num}:\n",
       " u₁(X₁, X₂, X₃)\n",
       " u₂(X₁, X₂, X₃)\n",
       " u₃(X₁, X₂, X₃)"
      ]
     },
     "execution_count": 36,
     "metadata": {},
     "output_type": "execute_result"
    }
   ],
   "source": [
    "# vecteur déplacement\n",
    "u=[u₁,\n",
    "u₂,\n",
    "u₃] "
   ]
  },
  {
   "cell_type": "markdown",
   "id": "f662811d-70b0-43d7-8dfe-7502cfb3e4cc",
   "metadata": {},
   "source": [
    "## Rappel"
   ]
  },
  {
   "cell_type": "code",
   "execution_count": 37,
   "id": "902cc58e-1dd2-47b5-a2c4-4518100a4fd8",
   "metadata": {},
   "outputs": [
    {
     "data": {
      "text/latex": [
       "\\begin{equation}\n",
       "\\left[\n",
       "\\begin{array}{ccc}\n",
       "\\mathrm{\\frac{d}{d X{_1}}}\\left( \\mathrm{u{_1}}\\left( X{_1}, X{_2}, X{_3} \\right) \\right) & \\mathrm{\\frac{d}{d X{_2}}}\\left( \\mathrm{u{_1}}\\left( X{_1}, X{_2}, X{_3} \\right) \\right) & \\mathrm{\\frac{d}{d X{_3}}}\\left( \\mathrm{u{_1}}\\left( X{_1}, X{_2}, X{_3} \\right) \\right) \\\\\n",
       "\\mathrm{\\frac{d}{d X{_1}}}\\left( \\mathrm{u{_2}}\\left( X{_1}, X{_2}, X{_3} \\right) \\right) & \\mathrm{\\frac{d}{d X{_2}}}\\left( \\mathrm{u{_2}}\\left( X{_1}, X{_2}, X{_3} \\right) \\right) & \\mathrm{\\frac{d}{d X{_3}}}\\left( \\mathrm{u{_2}}\\left( X{_1}, X{_2}, X{_3} \\right) \\right) \\\\\n",
       "\\mathrm{\\frac{d}{d X{_1}}}\\left( \\mathrm{u{_3}}\\left( X{_1}, X{_2}, X{_3} \\right) \\right) & \\mathrm{\\frac{d}{d X{_2}}}\\left( \\mathrm{u{_3}}\\left( X{_1}, X{_2}, X{_3} \\right) \\right) & \\mathrm{\\frac{d}{d X{_3}}}\\left( \\mathrm{u{_3}}\\left( X{_1}, X{_2}, X{_3} \\right) \\right) \\\\\n",
       "\\end{array}\n",
       "\\right]\n",
       "\\end{equation}\n"
      ],
      "text/plain": [
       "3×3 Matrix{Num}:\n",
       " Differential(X₁)(u₁(X₁, X₂, X₃))  …  Differential(X₃)(u₁(X₁, X₂, X₃))\n",
       " Differential(X₁)(u₂(X₁, X₂, X₃))     Differential(X₃)(u₂(X₁, X₂, X₃))\n",
       " Differential(X₁)(u₃(X₁, X₂, X₃))     Differential(X₃)(u₃(X₁, X₂, X₃))"
      ]
     },
     "execution_count": 37,
     "metadata": {},
     "output_type": "execute_result"
    }
   ],
   "source": [
    "# L : Matrice gradient du déplacement \n",
    "L=Symbolics.jacobian(u,[X₁, X₂, X₃];simplify)"
   ]
  },
  {
   "cell_type": "code",
   "execution_count": 38,
   "id": "1de23f77-ecb7-4015-8840-b565d802e587",
   "metadata": {},
   "outputs": [
    {
     "data": {
      "text/latex": [
       "\\begin{equation}\n",
       "\\left[\n",
       "\\begin{array}{ccc}\n",
       "\\mathrm{\\frac{d}{d X{_1}}}\\left( \\mathrm{u{_1}}\\left( X{_1}, X{_2}, X{_3} \\right) \\right) & \\mathrm{\\frac{d}{d X{_1}}}\\left( \\mathrm{u{_2}}\\left( X{_1}, X{_2}, X{_3} \\right) \\right) & \\mathrm{\\frac{d}{d X{_1}}}\\left( \\mathrm{u{_3}}\\left( X{_1}, X{_2}, X{_3} \\right) \\right) \\\\\n",
       "\\mathrm{\\frac{d}{d X{_2}}}\\left( \\mathrm{u{_1}}\\left( X{_1}, X{_2}, X{_3} \\right) \\right) & \\mathrm{\\frac{d}{d X{_2}}}\\left( \\mathrm{u{_2}}\\left( X{_1}, X{_2}, X{_3} \\right) \\right) & \\mathrm{\\frac{d}{d X{_2}}}\\left( \\mathrm{u{_3}}\\left( X{_1}, X{_2}, X{_3} \\right) \\right) \\\\\n",
       "\\mathrm{\\frac{d}{d X{_3}}}\\left( \\mathrm{u{_1}}\\left( X{_1}, X{_2}, X{_3} \\right) \\right) & \\mathrm{\\frac{d}{d X{_3}}}\\left( \\mathrm{u{_2}}\\left( X{_1}, X{_2}, X{_3} \\right) \\right) & \\mathrm{\\frac{d}{d X{_3}}}\\left( \\mathrm{u{_3}}\\left( X{_1}, X{_2}, X{_3} \\right) \\right) \\\\\n",
       "\\end{array}\n",
       "\\right]\n",
       "\\end{equation}\n"
      ],
      "text/plain": [
       "3×3 adjoint(::Matrix{Num}) with eltype Num:\n",
       " Differential(X₁)(u₁(X₁, X₂, X₃))  …  Differential(X₁)(u₃(X₁, X₂, X₃))\n",
       " Differential(X₂)(u₁(X₁, X₂, X₃))     Differential(X₂)(u₃(X₁, X₂, X₃))\n",
       " Differential(X₃)(u₁(X₁, X₂, X₃))     Differential(X₃)(u₃(X₁, X₂, X₃))"
      ]
     },
     "execution_count": 38,
     "metadata": {},
     "output_type": "execute_result"
    }
   ],
   "source": [
    "# Lt : Transposée de la matrice L\n",
    "Lt=L'"
   ]
  },
  {
   "cell_type": "code",
   "execution_count": 39,
   "id": "bf76e097-ed38-4246-8798-4a256b4560a3",
   "metadata": {},
   "outputs": [
    {
     "data": {
      "text/latex": [
       "\\begin{equation}\n",
       "\\left[\n",
       "\\begin{array}{ccc}\n",
       "\\mathrm{\\frac{d}{d X{_1}}}\\left( \\mathrm{u{_1}}\\left( X{_1}, X{_2}, X{_3} \\right) \\right) & 0.5 \\mathrm{\\frac{d}{d X{_2}}}\\left( \\mathrm{u{_1}}\\left( X{_1}, X{_2}, X{_3} \\right) \\right) + 0.5 \\mathrm{\\frac{d}{d X{_1}}}\\left( \\mathrm{u{_2}}\\left( X{_1}, X{_2}, X{_3} \\right) \\right) & 0.5 \\mathrm{\\frac{d}{d X{_3}}}\\left( \\mathrm{u{_1}}\\left( X{_1}, X{_2}, X{_3} \\right) \\right) + 0.5 \\mathrm{\\frac{d}{d X{_1}}}\\left( \\mathrm{u{_3}}\\left( X{_1}, X{_2}, X{_3} \\right) \\right) \\\\\n",
       "0.5 \\mathrm{\\frac{d}{d X{_2}}}\\left( \\mathrm{u{_1}}\\left( X{_1}, X{_2}, X{_3} \\right) \\right) + 0.5 \\mathrm{\\frac{d}{d X{_1}}}\\left( \\mathrm{u{_2}}\\left( X{_1}, X{_2}, X{_3} \\right) \\right) & \\mathrm{\\frac{d}{d X{_2}}}\\left( \\mathrm{u{_2}}\\left( X{_1}, X{_2}, X{_3} \\right) \\right) & 0.5 \\mathrm{\\frac{d}{d X{_3}}}\\left( \\mathrm{u{_2}}\\left( X{_1}, X{_2}, X{_3} \\right) \\right) + 0.5 \\mathrm{\\frac{d}{d X{_2}}}\\left( \\mathrm{u{_3}}\\left( X{_1}, X{_2}, X{_3} \\right) \\right) \\\\\n",
       "0.5 \\mathrm{\\frac{d}{d X{_3}}}\\left( \\mathrm{u{_1}}\\left( X{_1}, X{_2}, X{_3} \\right) \\right) + 0.5 \\mathrm{\\frac{d}{d X{_1}}}\\left( \\mathrm{u{_3}}\\left( X{_1}, X{_2}, X{_3} \\right) \\right) & 0.5 \\mathrm{\\frac{d}{d X{_3}}}\\left( \\mathrm{u{_2}}\\left( X{_1}, X{_2}, X{_3} \\right) \\right) + 0.5 \\mathrm{\\frac{d}{d X{_2}}}\\left( \\mathrm{u{_3}}\\left( X{_1}, X{_2}, X{_3} \\right) \\right) & \\mathrm{\\frac{d}{d X{_3}}}\\left( \\mathrm{u{_3}}\\left( X{_1}, X{_2}, X{_3} \\right) \\right) \\\\\n",
       "\\end{array}\n",
       "\\right]\n",
       "\\end{equation}\n"
      ],
      "text/plain": [
       "3×3 Matrix{Num}:\n",
       " Differential(X₁)(u₁(X₁, X₂, X₃))                                            …   0.5Differential(X₃)(u₁(X₁, X₂, X₃)) + 0.5Differential(X₁)(u₃(X₁, X₂, X₃))\n",
       "  0.5Differential(X₂)(u₁(X₁, X₂, X₃)) + 0.5Differential(X₁)(u₂(X₁, X₂, X₃))      0.5Differential(X₃)(u₂(X₁, X₂, X₃)) + 0.5Differential(X₂)(u₃(X₁, X₂, X₃))\n",
       "  0.5Differential(X₃)(u₁(X₁, X₂, X₃)) + 0.5Differential(X₁)(u₃(X₁, X₂, X₃))     Differential(X₃)(u₃(X₁, X₂, X₃))"
      ]
     },
     "execution_count": 39,
     "metadata": {},
     "output_type": "execute_result"
    }
   ],
   "source": [
    "# Tenseur de déformation : Sym(L)\n",
    "ϵ=0.5*(L+Lt)"
   ]
  },
  {
   "cell_type": "markdown",
   "id": "0e6ab9b4-f0d4-4603-a919-f858460569bf",
   "metadata": {},
   "source": [
    "## Application\n",
    "$$\\vec{u}\\left[\\begin{array}{c}\n",
    "u_{1}(X_{1},X_{2},X_{2})= 0.1X_{2}  \\\\\n",
    "u_{2}(X_{1},X_{2},X_{2})=0\\\\\n",
    "u_{3}(X_{1},X_{2},X_{2})=0\\\\\n",
    "\\end{array}\\right]$$"
   ]
  },
  {
   "cell_type": "code",
   "execution_count": 40,
   "id": "a9d2c85e-cb63-480a-becf-dca3565ffebb",
   "metadata": {},
   "outputs": [
    {
     "data": {
      "text/latex": [
       "\\begin{equation}\n",
       "\\left[\n",
       "\\begin{array}{c}\n",
       "0.1 X{_2} \\\\\n",
       "0.0 \\\\\n",
       "0.0 \\\\\n",
       "\\end{array}\n",
       "\\right]\n",
       "\\end{equation}\n"
      ],
      "text/plain": [
       "3-element Vector{Num}:\n",
       " 0.1X₂\n",
       " 0.0\n",
       " 0.0"
      ]
     },
     "execution_count": 40,
     "metadata": {},
     "output_type": "execute_result"
    }
   ],
   "source": [
    "u=simplify.(substitute.(u, (Dict(u₁ => 0.1*X₂),Dict(u₂ => 0.),Dict(u₃ => 0.),)))"
   ]
  },
  {
   "cell_type": "code",
   "execution_count": 41,
   "id": "e9f45bf9-2c05-4246-9b18-43cd9a870077",
   "metadata": {},
   "outputs": [
    {
     "data": {
      "text/latex": [
       "\\begin{equation}\n",
       "\\left[\n",
       "\\begin{array}{ccc}\n",
       "0 & 0.1 & 0 \\\\\n",
       "0 & 0 & 0 \\\\\n",
       "0 & 0 & 0 \\\\\n",
       "\\end{array}\n",
       "\\right]\n",
       "\\end{equation}\n"
      ],
      "text/plain": [
       "3×3 Matrix{Num}:\n",
       " 0  0.1  0\n",
       " 0  0    0\n",
       " 0  0    0"
      ]
     },
     "execution_count": 41,
     "metadata": {},
     "output_type": "execute_result"
    }
   ],
   "source": [
    "# L : Matrice gradient du déplacement \n",
    "L=Symbolics.jacobian(u,[X₁, X₂, X₃];simplify)"
   ]
  },
  {
   "cell_type": "code",
   "execution_count": 42,
   "id": "e1e94bda-8655-4b17-8cdf-80837eec1d7d",
   "metadata": {},
   "outputs": [
    {
     "data": {
      "text/latex": [
       "\\begin{equation}\n",
       "\\left[\n",
       "\\begin{array}{ccc}\n",
       "0 & 0 & 0 \\\\\n",
       "0.1 & 0 & 0 \\\\\n",
       "0 & 0 & 0 \\\\\n",
       "\\end{array}\n",
       "\\right]\n",
       "\\end{equation}\n"
      ],
      "text/plain": [
       "3×3 adjoint(::Matrix{Num}) with eltype Num:\n",
       " 0    0  0\n",
       " 0.1  0  0\n",
       " 0    0  0"
      ]
     },
     "execution_count": 42,
     "metadata": {},
     "output_type": "execute_result"
    }
   ],
   "source": [
    "Lt=L'"
   ]
  },
  {
   "cell_type": "code",
   "execution_count": 43,
   "id": "3c0cf605-90c1-4470-b215-3a6ec725d147",
   "metadata": {},
   "outputs": [
    {
     "data": {
      "text/latex": [
       "\\begin{equation}\n",
       "\\left[\n",
       "\\begin{array}{ccc}\n",
       "0.0 & 0.05 & 0.0 \\\\\n",
       "0.05 & 0.0 & 0.0 \\\\\n",
       "0.0 & 0.0 & 0.0 \\\\\n",
       "\\end{array}\n",
       "\\right]\n",
       "\\end{equation}\n"
      ],
      "text/plain": [
       "3×3 Matrix{Num}:\n",
       " 0.0   0.05  0.0\n",
       " 0.05  0.0   0.0\n",
       " 0.0   0.0   0.0"
      ]
     },
     "execution_count": 43,
     "metadata": {},
     "output_type": "execute_result"
    }
   ],
   "source": [
    "ϵ=1/2*(L+Lt)"
   ]
  }
 ],
 "metadata": {
  "kernelspec": {
   "display_name": "Julia 1.7.2",
   "language": "julia",
   "name": "julia-1.7"
  },
  "language_info": {
   "file_extension": ".jl",
   "mimetype": "application/julia",
   "name": "julia",
   "version": "1.7.2"
  }
 },
 "nbformat": 4,
 "nbformat_minor": 5
}
