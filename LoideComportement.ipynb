{
 "cells": [
  {
   "cell_type": "code",
   "execution_count": 1,
   "id": "aae3aae7-96e2-4b1b-af83-4089f2d07a06",
   "metadata": {},
   "outputs": [],
   "source": [
    "using Symbolics,  Latexify, LinearAlgebra\n",
    "@variables x₁, x₂, x₃ # 3 coordonnées d'espace\n",
    "@variables u₁(x₁, x₂, x₃), u₂(x₁, x₂, x₃), u₃(x₁, x₂, x₃) # 3 composantes du vecteur déplacement\n",
    "@variables λ, μ # paramètres de Lamé\n",
    "@variables ϵ₁₁, ϵ₂₂, ϵ₃₃, ϵ₁₂, ϵ₁₃, ϵ₂₃ # 6 composantes du tenseur de déformation\n",
    "@variables σ₁₁, σ₂₂, σ₃₃, σ₁₂, σ₁₃, σ₂₃; #6 composantes du tenseur de contrainte\n"
   ]
  },
  {
   "cell_type": "code",
   "execution_count": 2,
   "id": "3ea8a9f1-76b6-42b1-90db-772fe471ae17",
   "metadata": {},
   "outputs": [
    {
     "data": {
      "text/plain": [
       "(::Differential) (generic function with 2 methods)"
      ]
     },
     "execution_count": 2,
     "metadata": {},
     "output_type": "execute_result"
    }
   ],
   "source": [
    "D1=Differential(x₁)\n",
    "D2=Differential(x₂)\n",
    "D3=Differential(x₃)"
   ]
  },
  {
   "cell_type": "code",
   "execution_count": 3,
   "id": "9f9b4a87-12e6-4915-bc3a-1e38cf3d8b92",
   "metadata": {},
   "outputs": [
    {
     "data": {
      "text/latex": [
       "\\begin{equation}\n",
       "\\left[\n",
       "\\begin{array}{ccc}\n",
       "\\epsilon{_{11}} & \\epsilon{_{12}} & \\epsilon{_{13}} \\\\\n",
       "\\epsilon{_{12}} & \\epsilon{_{22}} & \\epsilon{_{23}} \\\\\n",
       "\\epsilon{_{13}} & \\epsilon{_{23}} & \\epsilon{_{33}} \\\\\n",
       "\\end{array}\n",
       "\\right]\n",
       "\\end{equation}\n"
      ],
      "text/plain": [
       "3×3 Matrix{Num}:\n",
       " ϵ₁₁  ϵ₁₂  ϵ₁₃\n",
       " ϵ₁₂  ϵ₂₂  ϵ₂₃\n",
       " ϵ₁₃  ϵ₂₃  ϵ₃₃"
      ]
     },
     "execution_count": 3,
     "metadata": {},
     "output_type": "execute_result"
    }
   ],
   "source": [
    "ϵ = [ϵ₁₁ ϵ₁₂ ϵ₁₃; ϵ₁₂ ϵ₂₂ ϵ₂₃; ϵ₁₃ ϵ₂₃ ϵ₃₃]"
   ]
  },
  {
   "cell_type": "code",
   "execution_count": 4,
   "id": "189359ee-66df-48e1-b6b2-48f97eeba54e",
   "metadata": {},
   "outputs": [
    {
     "data": {
      "text/latex": [
       "\\begin{equation}\n",
       "\\left[\n",
       "\\begin{array}{ccc}\n",
       "\\sigma{_{11}} & \\sigma{_{12}} & \\sigma{_{13}} \\\\\n",
       "\\sigma{_{12}} & \\sigma{_{22}} & \\sigma{_{23}} \\\\\n",
       "\\sigma{_{13}} & \\sigma{_{23}} & \\sigma{_{33}} \\\\\n",
       "\\end{array}\n",
       "\\right]\n",
       "\\end{equation}\n"
      ],
      "text/plain": [
       "3×3 Matrix{Num}:\n",
       " σ₁₁  σ₁₂  σ₁₃\n",
       " σ₁₂  σ₂₂  σ₂₃\n",
       " σ₁₃  σ₂₃  σ₃₃"
      ]
     },
     "execution_count": 4,
     "metadata": {},
     "output_type": "execute_result"
    }
   ],
   "source": [
    "σ = [σ₁₁ σ₁₂ σ₁₃; \n",
    "    σ₁₂ σ₂₂ σ₂₃;\n",
    "    σ₁₃ σ₂₃ σ₃₃]"
   ]
  },
  {
   "cell_type": "code",
   "execution_count": 5,
   "id": "7c986720-7c40-4aba-9d69-3d293a4da5fc",
   "metadata": {},
   "outputs": [
    {
     "data": {
      "text/latex": [
       "\\begin{equation}\n",
       "\\left[\n",
       "\\begin{array}{ccc}\n",
       "\\sigma{_{11}} \\epsilon{_{11}} + \\sigma{_{12}} \\epsilon{_{12}} + \\sigma{_{13}} \\epsilon{_{13}} & \\sigma{_{11}} \\epsilon{_{12}} + \\sigma{_{12}} \\epsilon{_{22}} + \\sigma{_{13}} \\epsilon{_{23}} & \\sigma{_{11}} \\epsilon{_{13}} + \\sigma{_{12}} \\epsilon{_{23}} + \\sigma{_{13}} \\epsilon{_{33}} \\\\\n",
       "\\sigma{_{12}} \\epsilon{_{11}} + \\sigma{_{22}} \\epsilon{_{12}} + \\sigma{_{23}} \\epsilon{_{13}} & \\sigma{_{12}} \\epsilon{_{12}} + \\sigma{_{22}} \\epsilon{_{22}} + \\sigma{_{23}} \\epsilon{_{23}} & \\sigma{_{12}} \\epsilon{_{13}} + \\sigma{_{22}} \\epsilon{_{23}} + \\sigma{_{23}} \\epsilon{_{33}} \\\\\n",
       "\\sigma{_{13}} \\epsilon{_{11}} + \\sigma{_{23}} \\epsilon{_{12}} + \\sigma{_{33}} \\epsilon{_{13}} & \\sigma{_{13}} \\epsilon{_{12}} + \\sigma{_{23}} \\epsilon{_{22}} + \\sigma{_{33}} \\epsilon{_{23}} & \\sigma{_{13}} \\epsilon{_{13}} + \\sigma{_{23}} \\epsilon{_{23}} + \\sigma{_{33}} \\epsilon{_{33}} \\\\\n",
       "\\end{array}\n",
       "\\right]\n",
       "\\end{equation}\n"
      ],
      "text/plain": [
       "3×3 Matrix{Num}:\n",
       " σ₁₁*ϵ₁₁ + σ₁₂*ϵ₁₂ + σ₁₃*ϵ₁₃  …  σ₁₁*ϵ₁₃ + σ₁₂*ϵ₂₃ + σ₁₃*ϵ₃₃\n",
       " σ₁₂*ϵ₁₁ + σ₂₂*ϵ₁₂ + σ₂₃*ϵ₁₃     σ₁₂*ϵ₁₃ + σ₂₂*ϵ₂₃ + σ₂₃*ϵ₃₃\n",
       " σ₁₃*ϵ₁₁ + σ₂₃*ϵ₁₂ + σ₃₃*ϵ₁₃     σ₁₃*ϵ₁₃ + σ₂₃*ϵ₂₃ + σ₃₃*ϵ₃₃"
      ]
     },
     "execution_count": 5,
     "metadata": {},
     "output_type": "execute_result"
    }
   ],
   "source": [
    "σ*ϵ"
   ]
  },
  {
   "cell_type": "code",
   "execution_count": 6,
   "id": "2a74dc38-f504-466a-b414-1d5ea945645d",
   "metadata": {},
   "outputs": [
    {
     "data": {
      "text/latex": [
       "\\begin{equation}\n",
       "\\left[\n",
       "\\begin{array}{ccc}\n",
       "2 \\mu \\epsilon{_{11}} & 2 \\mu \\epsilon{_{12}} & 2 \\mu \\epsilon{_{13}} \\\\\n",
       "2 \\mu \\epsilon{_{12}} & 2 \\mu \\epsilon{_{22}} & 2 \\mu \\epsilon{_{23}} \\\\\n",
       "2 \\mu \\epsilon{_{13}} & 2 \\mu \\epsilon{_{23}} & 2 \\mu \\epsilon{_{33}} \\\\\n",
       "\\end{array}\n",
       "\\right]\n",
       "\\end{equation}\n"
      ],
      "text/plain": [
       "3×3 Matrix{Num}:\n",
       " 2μ*ϵ₁₁  2μ*ϵ₁₂  2μ*ϵ₁₃\n",
       " 2μ*ϵ₁₂  2μ*ϵ₂₂  2μ*ϵ₂₃\n",
       " 2μ*ϵ₁₃  2μ*ϵ₂₃  2μ*ϵ₃₃"
      ]
     },
     "execution_count": 6,
     "metadata": {},
     "output_type": "execute_result"
    }
   ],
   "source": [
    "2μ*ϵ"
   ]
  },
  {
   "cell_type": "code",
   "execution_count": 7,
   "id": "1599efa1-5e12-4b1a-b0d6-7c1e65a1501c",
   "metadata": {},
   "outputs": [
    {
     "data": {
      "text/plain": [
       "UniformScaling{Num}\n",
       "(λ*(σ₁₁ + σ₂₂ + σ₃₃))*I"
      ]
     },
     "execution_count": 7,
     "metadata": {},
     "output_type": "execute_result"
    }
   ],
   "source": [
    "λ*tr(σ)*I"
   ]
  },
  {
   "cell_type": "code",
   "execution_count": 8,
   "id": "6a87b2be-57a8-4378-a9f9-6e285d66094b",
   "metadata": {},
   "outputs": [
    {
     "data": {
      "text/latex": [
       "\\begin{equation}\n",
       "\\left[\n",
       "\\begin{array}{ccc}\n",
       "\\lambda \\left( \\epsilon{_{11}} + \\epsilon{_{22}} + \\epsilon{_{33}} \\right) + 2 \\mu \\epsilon{_{11}} & 2 \\mu \\epsilon{_{12}} & 2 \\mu \\epsilon{_{13}} \\\\\n",
       "2 \\mu \\epsilon{_{12}} & \\lambda \\left( \\epsilon{_{11}} + \\epsilon{_{22}} + \\epsilon{_{33}} \\right) + 2 \\mu \\epsilon{_{22}} & 2 \\mu \\epsilon{_{23}} \\\\\n",
       "2 \\mu \\epsilon{_{13}} & 2 \\mu \\epsilon{_{23}} & \\lambda \\left( \\epsilon{_{11}} + \\epsilon{_{22}} + \\epsilon{_{33}} \\right) + 2 \\mu \\epsilon{_{33}} \\\\\n",
       "\\end{array}\n",
       "\\right]\n",
       "\\end{equation}\n"
      ],
      "text/plain": [
       "3×3 Matrix{Num}:\n",
       " λ*(ϵ₁₁ + ϵ₂₂ + ϵ₃₃) + 2μ*ϵ₁₁  …                        2μ*ϵ₁₃\n",
       "                       2μ*ϵ₁₂                           2μ*ϵ₂₃\n",
       "                       2μ*ϵ₁₃     λ*(ϵ₁₁ + ϵ₂₂ + ϵ₃₃) + 2μ*ϵ₃₃"
      ]
     },
     "execution_count": 8,
     "metadata": {},
     "output_type": "execute_result"
    }
   ],
   "source": [
    "simplify(2μ*ϵ+λ*tr(ϵ)*I)"
   ]
  },
  {
   "cell_type": "code",
   "execution_count": 9,
   "id": "1c842c73-094c-43e1-b827-5cebde2f364a",
   "metadata": {},
   "outputs": [
    {
     "data": {
      "text/latex": [
       "\\begin{equation}\n",
       "\\left[\n",
       "\\begin{array}{c}\n",
       "\\mathrm{u{_1}}\\left( x{_1}, x{_2}, x{_3} \\right) \\\\\n",
       "\\mathrm{u{_2}}\\left( x{_1}, x{_2}, x{_3} \\right) \\\\\n",
       "\\mathrm{u{_3}}\\left( x{_1}, x{_2}, x{_3} \\right) \\\\\n",
       "\\end{array}\n",
       "\\right]\n",
       "\\end{equation}\n"
      ],
      "text/plain": [
       "3-element Vector{Num}:\n",
       " u₁(x₁, x₂, x₃)\n",
       " u₂(x₁, x₂, x₃)\n",
       " u₃(x₁, x₂, x₃)"
      ]
     },
     "execution_count": 9,
     "metadata": {},
     "output_type": "execute_result"
    }
   ],
   "source": [
    "u=[u₁,\n",
    "u₂,\n",
    "u₃] # vecteur déplacement"
   ]
  },
  {
   "cell_type": "code",
   "execution_count": 10,
   "id": "08f74a1b-a18c-4aec-b99e-85448a443fab",
   "metadata": {},
   "outputs": [
    {
     "data": {
      "text/plain": [
       "Vector{Num} (alias for Array{Num, 1})"
      ]
     },
     "execution_count": 10,
     "metadata": {},
     "output_type": "execute_result"
    }
   ],
   "source": [
    "typeof(u)"
   ]
  },
  {
   "cell_type": "markdown",
   "id": "956a2753-385b-4376-bfc4-15c937de7ce4",
   "metadata": {
    "tags": []
   },
   "source": [
    "# Tenseur gradient de déplacement (matrice jacobienne)"
   ]
  },
  {
   "cell_type": "code",
   "execution_count": 11,
   "id": "37bb5537-887c-4126-9c9a-62d01abbce33",
   "metadata": {},
   "outputs": [
    {
     "data": {
      "text/latex": [
       "\\begin{equation}\n",
       "\\left[\n",
       "\\begin{array}{ccc}\n",
       "\\mathrm{\\frac{d}{d x{_1}}}\\left( \\mathrm{u{_1}}\\left( x{_1}, x{_2}, x{_3} \\right) \\right) & \\mathrm{\\frac{d}{d x{_2}}}\\left( \\mathrm{u{_1}}\\left( x{_1}, x{_2}, x{_3} \\right) \\right) & \\mathrm{\\frac{d}{d x{_3}}}\\left( \\mathrm{u{_1}}\\left( x{_1}, x{_2}, x{_3} \\right) \\right) \\\\\n",
       "\\mathrm{\\frac{d}{d x{_1}}}\\left( \\mathrm{u{_2}}\\left( x{_1}, x{_2}, x{_3} \\right) \\right) & \\mathrm{\\frac{d}{d x{_2}}}\\left( \\mathrm{u{_2}}\\left( x{_1}, x{_2}, x{_3} \\right) \\right) & \\mathrm{\\frac{d}{d x{_3}}}\\left( \\mathrm{u{_2}}\\left( x{_1}, x{_2}, x{_3} \\right) \\right) \\\\\n",
       "\\mathrm{\\frac{d}{d x{_1}}}\\left( \\mathrm{u{_3}}\\left( x{_1}, x{_2}, x{_3} \\right) \\right) & \\mathrm{\\frac{d}{d x{_2}}}\\left( \\mathrm{u{_3}}\\left( x{_1}, x{_2}, x{_3} \\right) \\right) & \\mathrm{\\frac{d}{d x{_3}}}\\left( \\mathrm{u{_3}}\\left( x{_1}, x{_2}, x{_3} \\right) \\right) \\\\\n",
       "\\end{array}\n",
       "\\right]\n",
       "\\end{equation}\n"
      ],
      "text/plain": [
       "3×3 Matrix{Num}:\n",
       " Differential(x₁)(u₁(x₁, x₂, x₃))  …  Differential(x₃)(u₁(x₁, x₂, x₃))\n",
       " Differential(x₁)(u₂(x₁, x₂, x₃))     Differential(x₃)(u₂(x₁, x₂, x₃))\n",
       " Differential(x₁)(u₃(x₁, x₂, x₃))     Differential(x₃)(u₃(x₁, x₂, x₃))"
      ]
     },
     "execution_count": 11,
     "metadata": {},
     "output_type": "execute_result"
    }
   ],
   "source": [
    "L=Symbolics.jacobian(u,[x₁, x₂, x₃];simplify)"
   ]
  },
  {
   "cell_type": "code",
   "execution_count": 12,
   "id": "b28328b4-7161-4c01-872e-c7a5233283a1",
   "metadata": {},
   "outputs": [
    {
     "data": {
      "text/latex": [
       "\\begin{equation}\n",
       "\\left[\n",
       "\\begin{array}{ccc}\n",
       "\\mathrm{\\frac{d}{d x{_1}}}\\left( \\mathrm{u{_1}}\\left( x{_1}, x{_2}, x{_3} \\right) \\right) & \\mathrm{\\frac{d}{d x{_1}}}\\left( \\mathrm{u{_2}}\\left( x{_1}, x{_2}, x{_3} \\right) \\right) & \\mathrm{\\frac{d}{d x{_1}}}\\left( \\mathrm{u{_3}}\\left( x{_1}, x{_2}, x{_3} \\right) \\right) \\\\\n",
       "\\mathrm{\\frac{d}{d x{_2}}}\\left( \\mathrm{u{_1}}\\left( x{_1}, x{_2}, x{_3} \\right) \\right) & \\mathrm{\\frac{d}{d x{_2}}}\\left( \\mathrm{u{_2}}\\left( x{_1}, x{_2}, x{_3} \\right) \\right) & \\mathrm{\\frac{d}{d x{_2}}}\\left( \\mathrm{u{_3}}\\left( x{_1}, x{_2}, x{_3} \\right) \\right) \\\\\n",
       "\\mathrm{\\frac{d}{d x{_3}}}\\left( \\mathrm{u{_1}}\\left( x{_1}, x{_2}, x{_3} \\right) \\right) & \\mathrm{\\frac{d}{d x{_3}}}\\left( \\mathrm{u{_2}}\\left( x{_1}, x{_2}, x{_3} \\right) \\right) & \\mathrm{\\frac{d}{d x{_3}}}\\left( \\mathrm{u{_3}}\\left( x{_1}, x{_2}, x{_3} \\right) \\right) \\\\\n",
       "\\end{array}\n",
       "\\right]\n",
       "\\end{equation}\n"
      ],
      "text/plain": [
       "3×3 adjoint(::Matrix{Num}) with eltype Num:\n",
       " Differential(x₁)(u₁(x₁, x₂, x₃))  …  Differential(x₁)(u₃(x₁, x₂, x₃))\n",
       " Differential(x₂)(u₁(x₁, x₂, x₃))     Differential(x₂)(u₃(x₁, x₂, x₃))\n",
       " Differential(x₃)(u₁(x₁, x₂, x₃))     Differential(x₃)(u₃(x₁, x₂, x₃))"
      ]
     },
     "execution_count": 12,
     "metadata": {},
     "output_type": "execute_result"
    }
   ],
   "source": [
    "Lt=L'"
   ]
  },
  {
   "cell_type": "code",
   "execution_count": 13,
   "id": "ab3ebbb6-19ba-4686-9f41-0cb864cd4d03",
   "metadata": {},
   "outputs": [
    {
     "data": {
      "text/latex": [
       "\\begin{equation}\n",
       "\\left[\n",
       "\\begin{array}{ccc}\n",
       "\\mathrm{\\frac{d}{d x{_1}}}\\left( \\mathrm{u{_1}}\\left( x{_1}, x{_2}, x{_3} \\right) \\right) & 0.5 \\mathrm{\\frac{d}{d x{_2}}}\\left( \\mathrm{u{_1}}\\left( x{_1}, x{_2}, x{_3} \\right) \\right) + 0.5 \\mathrm{\\frac{d}{d x{_1}}}\\left( \\mathrm{u{_2}}\\left( x{_1}, x{_2}, x{_3} \\right) \\right) & 0.5 \\mathrm{\\frac{d}{d x{_3}}}\\left( \\mathrm{u{_1}}\\left( x{_1}, x{_2}, x{_3} \\right) \\right) + 0.5 \\mathrm{\\frac{d}{d x{_1}}}\\left( \\mathrm{u{_3}}\\left( x{_1}, x{_2}, x{_3} \\right) \\right) \\\\\n",
       "0.5 \\mathrm{\\frac{d}{d x{_2}}}\\left( \\mathrm{u{_1}}\\left( x{_1}, x{_2}, x{_3} \\right) \\right) + 0.5 \\mathrm{\\frac{d}{d x{_1}}}\\left( \\mathrm{u{_2}}\\left( x{_1}, x{_2}, x{_3} \\right) \\right) & \\mathrm{\\frac{d}{d x{_2}}}\\left( \\mathrm{u{_2}}\\left( x{_1}, x{_2}, x{_3} \\right) \\right) & 0.5 \\mathrm{\\frac{d}{d x{_3}}}\\left( \\mathrm{u{_2}}\\left( x{_1}, x{_2}, x{_3} \\right) \\right) + 0.5 \\mathrm{\\frac{d}{d x{_2}}}\\left( \\mathrm{u{_3}}\\left( x{_1}, x{_2}, x{_3} \\right) \\right) \\\\\n",
       "0.5 \\mathrm{\\frac{d}{d x{_3}}}\\left( \\mathrm{u{_1}}\\left( x{_1}, x{_2}, x{_3} \\right) \\right) + 0.5 \\mathrm{\\frac{d}{d x{_1}}}\\left( \\mathrm{u{_3}}\\left( x{_1}, x{_2}, x{_3} \\right) \\right) & 0.5 \\mathrm{\\frac{d}{d x{_3}}}\\left( \\mathrm{u{_2}}\\left( x{_1}, x{_2}, x{_3} \\right) \\right) + 0.5 \\mathrm{\\frac{d}{d x{_2}}}\\left( \\mathrm{u{_3}}\\left( x{_1}, x{_2}, x{_3} \\right) \\right) & \\mathrm{\\frac{d}{d x{_3}}}\\left( \\mathrm{u{_3}}\\left( x{_1}, x{_2}, x{_3} \\right) \\right) \\\\\n",
       "\\end{array}\n",
       "\\right]\n",
       "\\end{equation}\n"
      ],
      "text/plain": [
       "3×3 Matrix{Num}:\n",
       " Differential(x₁)(u₁(x₁, x₂, x₃))                                            …   0.5Differential(x₃)(u₁(x₁, x₂, x₃)) + 0.5Differential(x₁)(u₃(x₁, x₂, x₃))\n",
       "  0.5Differential(x₂)(u₁(x₁, x₂, x₃)) + 0.5Differential(x₁)(u₂(x₁, x₂, x₃))      0.5Differential(x₃)(u₂(x₁, x₂, x₃)) + 0.5Differential(x₂)(u₃(x₁, x₂, x₃))\n",
       "  0.5Differential(x₃)(u₁(x₁, x₂, x₃)) + 0.5Differential(x₁)(u₃(x₁, x₂, x₃))     Differential(x₃)(u₃(x₁, x₂, x₃))"
      ]
     },
     "execution_count": 13,
     "metadata": {},
     "output_type": "execute_result"
    }
   ],
   "source": [
    "ϵ=simplify(1/2*(L+L'))"
   ]
  },
  {
   "cell_type": "code",
   "execution_count": 14,
   "id": "580a14d8-c70f-413d-bd5c-084d84c215f7",
   "metadata": {},
   "outputs": [
    {
     "data": {
      "text/latex": [
       "\\begin{equation}\n",
       "\\left[\n",
       "\\begin{array}{ccc}\n",
       "\\lambda \\left( \\mathrm{\\frac{d}{d x{_1}}}\\left( \\mathrm{u{_1}}\\left( x{_1}, x{_2}, x{_3} \\right) \\right) + \\mathrm{\\frac{d}{d x{_2}}}\\left( \\mathrm{u{_2}}\\left( x{_1}, x{_2}, x{_3} \\right) \\right) + \\mathrm{\\frac{d}{d x{_3}}}\\left( \\mathrm{u{_3}}\\left( x{_1}, x{_2}, x{_3} \\right) \\right) \\right) + 2 \\mu \\mathrm{\\frac{d}{d x{_1}}}\\left( \\mathrm{u{_1}}\\left( x{_1}, x{_2}, x{_3} \\right) \\right) & 2 \\mu \\left( 0.5 \\mathrm{\\frac{d}{d x{_2}}}\\left( \\mathrm{u{_1}}\\left( x{_1}, x{_2}, x{_3} \\right) \\right) + 0.5 \\mathrm{\\frac{d}{d x{_1}}}\\left( \\mathrm{u{_2}}\\left( x{_1}, x{_2}, x{_3} \\right) \\right) \\right) & 2 \\mu \\left( 0.5 \\mathrm{\\frac{d}{d x{_3}}}\\left( \\mathrm{u{_1}}\\left( x{_1}, x{_2}, x{_3} \\right) \\right) + 0.5 \\mathrm{\\frac{d}{d x{_1}}}\\left( \\mathrm{u{_3}}\\left( x{_1}, x{_2}, x{_3} \\right) \\right) \\right) \\\\\n",
       "2 \\mu \\left( 0.5 \\mathrm{\\frac{d}{d x{_2}}}\\left( \\mathrm{u{_1}}\\left( x{_1}, x{_2}, x{_3} \\right) \\right) + 0.5 \\mathrm{\\frac{d}{d x{_1}}}\\left( \\mathrm{u{_2}}\\left( x{_1}, x{_2}, x{_3} \\right) \\right) \\right) & \\lambda \\left( \\mathrm{\\frac{d}{d x{_1}}}\\left( \\mathrm{u{_1}}\\left( x{_1}, x{_2}, x{_3} \\right) \\right) + \\mathrm{\\frac{d}{d x{_2}}}\\left( \\mathrm{u{_2}}\\left( x{_1}, x{_2}, x{_3} \\right) \\right) + \\mathrm{\\frac{d}{d x{_3}}}\\left( \\mathrm{u{_3}}\\left( x{_1}, x{_2}, x{_3} \\right) \\right) \\right) + 2 \\mu \\mathrm{\\frac{d}{d x{_2}}}\\left( \\mathrm{u{_2}}\\left( x{_1}, x{_2}, x{_3} \\right) \\right) & 2 \\mu \\left( 0.5 \\mathrm{\\frac{d}{d x{_3}}}\\left( \\mathrm{u{_2}}\\left( x{_1}, x{_2}, x{_3} \\right) \\right) + 0.5 \\mathrm{\\frac{d}{d x{_2}}}\\left( \\mathrm{u{_3}}\\left( x{_1}, x{_2}, x{_3} \\right) \\right) \\right) \\\\\n",
       "2 \\mu \\left( 0.5 \\mathrm{\\frac{d}{d x{_3}}}\\left( \\mathrm{u{_1}}\\left( x{_1}, x{_2}, x{_3} \\right) \\right) + 0.5 \\mathrm{\\frac{d}{d x{_1}}}\\left( \\mathrm{u{_3}}\\left( x{_1}, x{_2}, x{_3} \\right) \\right) \\right) & 2 \\mu \\left( 0.5 \\mathrm{\\frac{d}{d x{_3}}}\\left( \\mathrm{u{_2}}\\left( x{_1}, x{_2}, x{_3} \\right) \\right) + 0.5 \\mathrm{\\frac{d}{d x{_2}}}\\left( \\mathrm{u{_3}}\\left( x{_1}, x{_2}, x{_3} \\right) \\right) \\right) & \\lambda \\left( \\mathrm{\\frac{d}{d x{_1}}}\\left( \\mathrm{u{_1}}\\left( x{_1}, x{_2}, x{_3} \\right) \\right) + \\mathrm{\\frac{d}{d x{_2}}}\\left( \\mathrm{u{_2}}\\left( x{_1}, x{_2}, x{_3} \\right) \\right) + \\mathrm{\\frac{d}{d x{_3}}}\\left( \\mathrm{u{_3}}\\left( x{_1}, x{_2}, x{_3} \\right) \\right) \\right) + 2 \\mu \\mathrm{\\frac{d}{d x{_3}}}\\left( \\mathrm{u{_3}}\\left( x{_1}, x{_2}, x{_3} \\right) \\right) \\\\\n",
       "\\end{array}\n",
       "\\right]\n",
       "\\end{equation}\n"
      ],
      "text/plain": [
       "3×3 Matrix{Num}:\n",
       " λ*(Differential(x₁)(u₁(x₁, x₂, x₃)) + Differential(x₂)(u₂(x₁, x₂, x₃)) + Differential(x₃)(u₃(x₁, x₂, x₃))) + 2μ*Differential(x₁)(u₁(x₁, x₂, x₃))  …  2μ*(0.5Differential(x₃)(u₁(x₁, x₂, x₃)) + 0.5Differential(x₁)(u₃(x₁, x₂, x₃)))\n",
       " 2μ*(0.5Differential(x₂)(u₁(x₁, x₂, x₃)) + 0.5Differential(x₁)(u₂(x₁, x₂, x₃)))                                                                       2μ*(0.5Differential(x₃)(u₂(x₁, x₂, x₃)) + 0.5Differential(x₂)(u₃(x₁, x₂, x₃)))\n",
       " 2μ*(0.5Differential(x₃)(u₁(x₁, x₂, x₃)) + 0.5Differential(x₁)(u₃(x₁, x₂, x₃)))                                                                       λ*(Differential(x₁)(u₁(x₁, x₂, x₃)) + Differential(x₂)(u₂(x₁, x₂, x₃)) + Differential(x₃)(u₃(x₁, x₂, x₃))) + 2μ*Differential(x₃)(u₃(x₁, x₂, x₃))"
      ]
     },
     "execution_count": 14,
     "metadata": {},
     "output_type": "execute_result"
    }
   ],
   "source": [
    "simplify(2μ*ϵ+λ*tr(ϵ)*I)"
   ]
  },
  {
   "cell_type": "code",
   "execution_count": 15,
   "id": "9ecbe711-4a26-402c-a0ec-7385378c3c16",
   "metadata": {},
   "outputs": [
    {
     "data": {
      "text/latex": [
       "\\begin{equation}\n",
       "\\left[\n",
       "\\begin{array}{c}\n",
       "\\sigma{_{11}} + \\sigma{_{12}} + \\sigma{_{13}} \\\\\n",
       "\\sigma{_{12}} + \\sigma{_{22}} + \\sigma{_{23}} \\\\\n",
       "\\sigma{_{13}} + \\sigma{_{23}} + \\sigma{_{33}} \\\\\n",
       "\\end{array}\n",
       "\\right]\n",
       "\\end{equation}\n"
      ],
      "text/plain": [
       "3-element Vector{Num}:\n",
       " σ₁₁ + σ₁₂ + σ₁₃\n",
       " σ₁₂ + σ₂₂ + σ₂₃\n",
       " σ₁₃ + σ₂₃ + σ₃₃"
      ]
     },
     "execution_count": 15,
     "metadata": {},
     "output_type": "execute_result"
    }
   ],
   "source": [
    "C=σ*[1,1,1]"
   ]
  },
  {
   "cell_type": "code",
   "execution_count": 16,
   "id": "5a9826a8",
   "metadata": {},
   "outputs": [
    {
     "data": {
      "text/plain": [
       "1-element Vector{Symbolics.Arr{Num, 1}}:\n",
       " v[1:3]"
      ]
     },
     "execution_count": 16,
     "metadata": {},
     "output_type": "execute_result"
    }
   ],
   "source": [
    "@variables v[1:3]"
   ]
  },
  {
   "cell_type": "code",
   "execution_count": 17,
   "id": "9a7e3c33",
   "metadata": {},
   "outputs": [
    {
     "data": {
      "text/latex": [
       "\\begin{equation}\n",
       "v{_1}\n",
       "\\end{equation}\n"
      ],
      "text/plain": [
       "v[1]"
      ]
     },
     "execution_count": 17,
     "metadata": {},
     "output_type": "execute_result"
    }
   ],
   "source": [
    "v[1]"
   ]
  }
 ],
 "metadata": {
  "kernelspec": {
   "display_name": "Julia 1.7.2",
   "language": "julia",
   "name": "julia-1.7"
  },
  "language_info": {
   "file_extension": ".jl",
   "mimetype": "application/julia",
   "name": "julia",
   "version": "1.7.2"
  }
 },
 "nbformat": 4,
 "nbformat_minor": 5
}
