{
 "cells": [
  {
   "cell_type": "code",
   "execution_count": 28,
   "id": "aae3aae7-96e2-4b1b-af83-4089f2d07a06",
   "metadata": {},
   "outputs": [],
   "source": [
    "using Symbolics,  Latexify, LinearAlgebra\n",
    "@variables x₁, x₂, x₃\n",
    "@variables u₁(x₁, x₂, x₃), u₂(x₁, x₂, x₃), u₃(x₁, x₂, x₃)\n",
    "@variables λ, μ\n",
    "@variables ϵ₁₁, ϵ₂₂, ϵ₃₃, ϵ₁₂, ϵ₁₃, ϵ₂₃\n",
    "@variables σ₁₁, σ₂₂, σ₃₃, σ₁₂, σ₁₃, σ₂₃;"
   ]
  },
  {
   "cell_type": "code",
   "execution_count": 2,
   "id": "3ea8a9f1-76b6-42b1-90db-772fe471ae17",
   "metadata": {},
   "outputs": [
    {
     "data": {
      "text/plain": [
       "(::Differential) (generic function with 2 methods)"
      ]
     },
     "execution_count": 2,
     "metadata": {},
     "output_type": "execute_result"
    }
   ],
   "source": [
    "D1=Differential(x₁)\n",
    "D2=Differential(x₂)\n",
    "D3=Differential(x₃)"
   ]
  },
  {
   "cell_type": "code",
   "execution_count": 12,
   "id": "f9c519dc-75a8-40ff-8d03-7b86f5e2cdb8",
   "metadata": {},
   "outputs": [
    {
     "data": {
      "text/latex": [
       "\\begin{equation}\n",
       "\\left[\n",
       "\\begin{array}{c}\n",
       "\\mathrm{u{_1}}\\left( x{_1}, x{_2}, x{_3} \\right) \\\\\n",
       "\\mathrm{u{_2}}\\left( x{_1}, x{_2}, x{_3} \\right) \\\\\n",
       "\\mathrm{u{_3}}\\left( x{_1}, x{_2}, x{_3} \\right) \\\\\n",
       "\\end{array}\n",
       "\\right]\n",
       "\\end{equation}\n"
      ],
      "text/plain": [
       "3-element Vector{Num}:\n",
       " u₁(x₁, x₂, x₃)\n",
       " u₂(x₁, x₂, x₃)\n",
       " u₃(x₁, x₂, x₃)"
      ]
     },
     "execution_count": 12,
     "metadata": {},
     "output_type": "execute_result"
    }
   ],
   "source": [
    "u=[u₁,u₂,u₃]"
   ]
  },
  {
   "cell_type": "markdown",
   "id": "956a2753-385b-4376-bfc4-15c937de7ce4",
   "metadata": {},
   "source": [
    "# Tenseur gradient de déplacement (matrice jacobienne)\n",
    "$\\frac{1}{2}$"
   ]
  },
  {
   "cell_type": "code",
   "execution_count": 34,
   "id": "37bb5537-887c-4126-9c9a-62d01abbce33",
   "metadata": {},
   "outputs": [
    {
     "data": {
      "text/latex": [
       "\\begin{equation}\n",
       "\\left[\n",
       "\\begin{array}{ccc}\n",
       "\\mathrm{\\frac{d}{d x{_1}}}\\left( \\mathrm{u{_1}}\\left( x{_1}, x{_2}, x{_3} \\right) \\right) & \\mathrm{\\frac{d}{d x{_2}}}\\left( \\mathrm{u{_1}}\\left( x{_1}, x{_2}, x{_3} \\right) \\right) & \\mathrm{\\frac{d}{d x{_3}}}\\left( \\mathrm{u{_1}}\\left( x{_1}, x{_2}, x{_3} \\right) \\right) \\\\\n",
       "\\mathrm{\\frac{d}{d x{_1}}}\\left( \\mathrm{u{_2}}\\left( x{_1}, x{_2}, x{_3} \\right) \\right) & \\mathrm{\\frac{d}{d x{_2}}}\\left( \\mathrm{u{_2}}\\left( x{_1}, x{_2}, x{_3} \\right) \\right) & \\mathrm{\\frac{d}{d x{_3}}}\\left( \\mathrm{u{_2}}\\left( x{_1}, x{_2}, x{_3} \\right) \\right) \\\\\n",
       "\\mathrm{\\frac{d}{d x{_1}}}\\left( \\mathrm{u{_3}}\\left( x{_1}, x{_2}, x{_3} \\right) \\right) & \\mathrm{\\frac{d}{d x{_2}}}\\left( \\mathrm{u{_3}}\\left( x{_1}, x{_2}, x{_3} \\right) \\right) & \\mathrm{\\frac{d}{d x{_3}}}\\left( \\mathrm{u{_3}}\\left( x{_1}, x{_2}, x{_3} \\right) \\right) \\\\\n",
       "\\end{array}\n",
       "\\right]\n",
       "\\end{equation}\n"
      ],
      "text/plain": [
       "3×3 Matrix{Num}:\n",
       " Differential(x₁)(u₁(x₁, x₂, x₃))  …  Differential(x₃)(u₁(x₁, x₂, x₃))\n",
       " Differential(x₁)(u₂(x₁, x₂, x₃))     Differential(x₃)(u₂(x₁, x₂, x₃))\n",
       " Differential(x₁)(u₃(x₁, x₂, x₃))     Differential(x₃)(u₃(x₁, x₂, x₃))"
      ]
     },
     "execution_count": 34,
     "metadata": {},
     "output_type": "execute_result"
    }
   ],
   "source": [
    "L=Symbolics.jacobian(u,[x₁, x₂, x₃];simplify)"
   ]
  },
  {
   "cell_type": "code",
   "execution_count": 18,
   "id": "b28328b4-7161-4c01-872e-c7a5233283a1",
   "metadata": {},
   "outputs": [
    {
     "data": {
      "text/latex": [
       "\\begin{equation}\n",
       "\\left[\n",
       "\\begin{array}{ccc}\n",
       "\\mathrm{\\frac{d}{d x{_1}}}\\left( \\mathrm{u{_1}}\\left( x{_1}, x{_2}, x{_3} \\right) \\right) & \\mathrm{\\frac{d}{d x{_1}}}\\left( \\mathrm{u{_2}}\\left( x{_1}, x{_2}, x{_3} \\right) \\right) & \\mathrm{\\frac{d}{d x{_1}}}\\left( \\mathrm{u{_3}}\\left( x{_1}, x{_2}, x{_3} \\right) \\right) \\\\\n",
       "\\mathrm{\\frac{d}{d x{_2}}}\\left( \\mathrm{u{_1}}\\left( x{_1}, x{_2}, x{_3} \\right) \\right) & \\mathrm{\\frac{d}{d x{_2}}}\\left( \\mathrm{u{_2}}\\left( x{_1}, x{_2}, x{_3} \\right) \\right) & \\mathrm{\\frac{d}{d x{_2}}}\\left( \\mathrm{u{_3}}\\left( x{_1}, x{_2}, x{_3} \\right) \\right) \\\\\n",
       "\\mathrm{\\frac{d}{d x{_3}}}\\left( \\mathrm{u{_1}}\\left( x{_1}, x{_2}, x{_3} \\right) \\right) & \\mathrm{\\frac{d}{d x{_3}}}\\left( \\mathrm{u{_2}}\\left( x{_1}, x{_2}, x{_3} \\right) \\right) & \\mathrm{\\frac{d}{d x{_3}}}\\left( \\mathrm{u{_3}}\\left( x{_1}, x{_2}, x{_3} \\right) \\right) \\\\\n",
       "\\end{array}\n",
       "\\right]\n",
       "\\end{equation}\n"
      ],
      "text/plain": [
       "3×3 adjoint(::Matrix{Num}) with eltype Num:\n",
       " Differential(x₁)(u₁(x₁, x₂, x₃))  …  Differential(x₁)(u₃(x₁, x₂, x₃))\n",
       " Differential(x₂)(u₁(x₁, x₂, x₃))     Differential(x₂)(u₃(x₁, x₂, x₃))\n",
       " Differential(x₃)(u₁(x₁, x₂, x₃))     Differential(x₃)(u₃(x₁, x₂, x₃))"
      ]
     },
     "execution_count": 18,
     "metadata": {},
     "output_type": "execute_result"
    }
   ],
   "source": [
    "Lt=L'"
   ]
  },
  {
   "cell_type": "code",
   "execution_count": 20,
   "id": "ab3ebbb6-19ba-4686-9f41-0cb864cd4d03",
   "metadata": {},
   "outputs": [
    {
     "data": {
      "text/latex": [
       "\\begin{equation}\n",
       "\\left[\n",
       "\\begin{array}{ccc}\n",
       "\\mathrm{\\frac{d}{d x{_1}}}\\left( \\mathrm{u{_1}}\\left( x{_1}, x{_2}, x{_3} \\right) \\right) & 0.5 \\mathrm{\\frac{d}{d x{_2}}}\\left( \\mathrm{u{_1}}\\left( x{_1}, x{_2}, x{_3} \\right) \\right) + 0.5 \\mathrm{\\frac{d}{d x{_1}}}\\left( \\mathrm{u{_2}}\\left( x{_1}, x{_2}, x{_3} \\right) \\right) & 0.5 \\mathrm{\\frac{d}{d x{_3}}}\\left( \\mathrm{u{_1}}\\left( x{_1}, x{_2}, x{_3} \\right) \\right) + 0.5 \\mathrm{\\frac{d}{d x{_1}}}\\left( \\mathrm{u{_3}}\\left( x{_1}, x{_2}, x{_3} \\right) \\right) \\\\\n",
       "0.5 \\mathrm{\\frac{d}{d x{_2}}}\\left( \\mathrm{u{_1}}\\left( x{_1}, x{_2}, x{_3} \\right) \\right) + 0.5 \\mathrm{\\frac{d}{d x{_1}}}\\left( \\mathrm{u{_2}}\\left( x{_1}, x{_2}, x{_3} \\right) \\right) & \\mathrm{\\frac{d}{d x{_2}}}\\left( \\mathrm{u{_2}}\\left( x{_1}, x{_2}, x{_3} \\right) \\right) & 0.5 \\mathrm{\\frac{d}{d x{_3}}}\\left( \\mathrm{u{_2}}\\left( x{_1}, x{_2}, x{_3} \\right) \\right) + 0.5 \\mathrm{\\frac{d}{d x{_2}}}\\left( \\mathrm{u{_3}}\\left( x{_1}, x{_2}, x{_3} \\right) \\right) \\\\\n",
       "0.5 \\mathrm{\\frac{d}{d x{_3}}}\\left( \\mathrm{u{_1}}\\left( x{_1}, x{_2}, x{_3} \\right) \\right) + 0.5 \\mathrm{\\frac{d}{d x{_1}}}\\left( \\mathrm{u{_3}}\\left( x{_1}, x{_2}, x{_3} \\right) \\right) & 0.5 \\mathrm{\\frac{d}{d x{_3}}}\\left( \\mathrm{u{_2}}\\left( x{_1}, x{_2}, x{_3} \\right) \\right) + 0.5 \\mathrm{\\frac{d}{d x{_2}}}\\left( \\mathrm{u{_3}}\\left( x{_1}, x{_2}, x{_3} \\right) \\right) & \\mathrm{\\frac{d}{d x{_3}}}\\left( \\mathrm{u{_3}}\\left( x{_1}, x{_2}, x{_3} \\right) \\right) \\\\\n",
       "\\end{array}\n",
       "\\right]\n",
       "\\end{equation}\n"
      ],
      "text/plain": [
       "3×3 Matrix{Num}:\n",
       " Differential(x₁)(u₁(x₁, x₂, x₃))                                            …   0.5Differential(x₃)(u₁(x₁, x₂, x₃)) + 0.5Differential(x₁)(u₃(x₁, x₂, x₃))\n",
       "  0.5Differential(x₂)(u₁(x₁, x₂, x₃)) + 0.5Differential(x₁)(u₂(x₁, x₂, x₃))      0.5Differential(x₃)(u₂(x₁, x₂, x₃)) + 0.5Differential(x₂)(u₃(x₁, x₂, x₃))\n",
       "  0.5Differential(x₃)(u₁(x₁, x₂, x₃)) + 0.5Differential(x₁)(u₃(x₁, x₂, x₃))     Differential(x₃)(u₃(x₁, x₂, x₃))"
      ]
     },
     "execution_count": 20,
     "metadata": {},
     "output_type": "execute_result"
    }
   ],
   "source": [
    "EPS=simplify(0.5*(L+L'))"
   ]
  },
  {
   "cell_type": "code",
   "execution_count": 25,
   "id": "9f9b4a87-12e6-4915-bc3a-1e38cf3d8b92",
   "metadata": {},
   "outputs": [
    {
     "data": {
      "text/latex": [
       "\\begin{equation}\n",
       "\\left[\n",
       "\\begin{array}{ccc}\n",
       "\\epsilon{_{11}} & \\epsilon{_{12}} & \\epsilon{_{13}} \\\\\n",
       "\\epsilon{_{12}} & \\epsilon{_{22}} & \\epsilon{_{23}} \\\\\n",
       "\\epsilon{_{13}} & \\epsilon{_{23}} & \\epsilon{_{33}} \\\\\n",
       "\\end{array}\n",
       "\\right]\n",
       "\\end{equation}\n"
      ],
      "text/plain": [
       "L\"\\begin{equation}\n",
       "\\left[\n",
       "\\begin{array}{ccc}\n",
       "\\epsilon{_{11}} & \\epsilon{_{12}} & \\epsilon{_{13}} \\\\\n",
       "\\epsilon{_{12}} & \\epsilon{_{22}} & \\epsilon{_{23}} \\\\\n",
       "\\epsilon{_{13}} & \\epsilon{_{23}} & \\epsilon{_{33}} \\\\\n",
       "\\end{array}\n",
       "\\right]\n",
       "\\end{equation}\n",
       "\""
      ]
     },
     "execution_count": 25,
     "metadata": {},
     "output_type": "execute_result"
    }
   ],
   "source": [
    "EPS = [ϵ₁₁ ϵ₁₂ ϵ₁₃; ϵ₁₂ ϵ₂₂ ϵ₂₃; ϵ₁₃ ϵ₂₃ ϵ₃₃]\n",
    "latexify(EPS)"
   ]
  },
  {
   "cell_type": "code",
   "execution_count": 6,
   "id": "189359ee-66df-48e1-b6b2-48f97eeba54e",
   "metadata": {},
   "outputs": [
    {
     "data": {
      "text/latex": [
       "\\begin{equation}\n",
       "\\left[\n",
       "\\begin{array}{ccc}\n",
       "\\sigma{_{11}} & \\sigma{_{12}} & \\sigma{_{13}} \\\\\n",
       "\\sigma{_{12}} & \\sigma{_{22}} & \\sigma{_{23}} \\\\\n",
       "\\sigma{_{13}} & \\sigma{_{23}} & \\sigma{_{33}} \\\\\n",
       "\\end{array}\n",
       "\\right]\n",
       "\\end{equation}\n"
      ],
      "text/plain": [
       "3×3 Matrix{Num}:\n",
       " σ₁₁  σ₁₂  σ₁₃\n",
       " σ₁₂  σ₂₂  σ₂₃\n",
       " σ₁₃  σ₂₃  σ₃₃"
      ]
     },
     "execution_count": 6,
     "metadata": {},
     "output_type": "execute_result"
    }
   ],
   "source": [
    "σ = [σ₁₁ σ₁₂ σ₁₃; \n",
    "    σ₁₂ σ₂₂ σ₂₃;\n",
    "    σ₁₃ σ₂₃ σ₃₃]"
   ]
  },
  {
   "cell_type": "code",
   "execution_count": 33,
   "id": "2a74dc38-f504-466a-b414-1d5ea945645d",
   "metadata": {},
   "outputs": [
    {
     "data": {
      "text/latex": [
       "\\begin{equation}\n",
       "\\left[\n",
       "\\begin{array}{ccc}\n",
       "2 \\mu \\epsilon{_{11}} & 2 \\mu \\epsilon{_{12}} & 2 \\mu \\epsilon{_{13}} \\\\\n",
       "2 \\mu \\epsilon{_{12}} & 2 \\mu \\epsilon{_{22}} & 2 \\mu \\epsilon{_{23}} \\\\\n",
       "2 \\mu \\epsilon{_{13}} & 2 \\mu \\epsilon{_{23}} & 2 \\mu \\epsilon{_{33}} \\\\\n",
       "\\end{array}\n",
       "\\right]\n",
       "\\end{equation}\n"
      ],
      "text/plain": [
       "3×3 Matrix{Num}:\n",
       " 2μ*ϵ₁₁  2μ*ϵ₁₂  2μ*ϵ₁₃\n",
       " 2μ*ϵ₁₂  2μ*ϵ₂₂  2μ*ϵ₂₃\n",
       " 2μ*ϵ₁₃  2μ*ϵ₂₃  2μ*ϵ₃₃"
      ]
     },
     "execution_count": 33,
     "metadata": {},
     "output_type": "execute_result"
    }
   ],
   "source": [
    "2μ*EPS"
   ]
  },
  {
   "cell_type": "code",
   "execution_count": 32,
   "id": "1599efa1-5e12-4b1a-b0d6-7c1e65a1501c",
   "metadata": {},
   "outputs": [
    {
     "data": {
      "text/plain": [
       "UniformScaling{Num}\n",
       "(λ*(σ₁₁ + σ₂₂ + σ₃₃))*I"
      ]
     },
     "execution_count": 32,
     "metadata": {},
     "output_type": "execute_result"
    }
   ],
   "source": [
    "λ*tr(SIG)*I"
   ]
  },
  {
   "cell_type": "code",
   "execution_count": 31,
   "id": "6a87b2be-57a8-4378-a9f9-6e285d66094b",
   "metadata": {},
   "outputs": [
    {
     "data": {
      "text/plain": [
       "UniformScaling{Bool}\n",
       "true*I"
      ]
     },
     "execution_count": 31,
     "metadata": {},
     "output_type": "execute_result"
    }
   ],
   "source": [
    "I"
   ]
  },
  {
   "cell_type": "code",
   "execution_count": null,
   "id": "1c842c73-094c-43e1-b827-5cebde2f364a",
   "metadata": {},
   "outputs": [],
   "source": []
  }
 ],
 "metadata": {
  "kernelspec": {
   "display_name": "Julia 1.7.0",
   "language": "julia",
   "name": "julia-1.7"
  },
  "language_info": {
   "file_extension": ".jl",
   "mimetype": "application/julia",
   "name": "julia",
   "version": "1.7.0"
  }
 },
 "nbformat": 4,
 "nbformat_minor": 5
}
